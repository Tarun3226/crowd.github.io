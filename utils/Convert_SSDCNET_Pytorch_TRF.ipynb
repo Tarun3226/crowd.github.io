{
 "cells": [
  {
   "cell_type": "code",
   "execution_count": 12,
   "metadata": {},
   "outputs": [],
   "source": [
    "import os\n",
    "import sys\n",
    "import torch\n",
    "import numpy as np\n",
    "#!cd ..\n",
    "# from Network import SSDCNet_classify"
   ]
  },
  {
   "cell_type": "code",
   "execution_count": 16,
   "metadata": {},
   "outputs": [],
   "source": [
    "module_path = os.path.join(os.path.abspath('../..'),\"SS-DCNet\")\n",
    "if module_path not in sys.path:\n",
    "    sys.path.append(module_path)\n",
    "from Network.SSDCNet import SSDCNet_classify"
   ]
  },
  {
   "cell_type": "code",
   "execution_count": 17,
   "metadata": {},
   "outputs": [
    {
     "data": {
      "text/plain": [
       "<All keys matched successfully>"
      ]
     },
     "execution_count": 17,
     "metadata": {},
     "output_type": "execute_result"
    }
   ],
   "source": [
    "label_indice = np.arange(0.5,22+0.5,0.5)\n",
    "add = np.array([1e-6,0.05,0.10,0.15,0.20,0.25,0.30,0.35,0.40,0.45])\n",
    "label_indice = np.concatenate((add,label_indice))\n",
    "class_num = len(label_indice)+1\n",
    "net = SSDCNet_classify(class_num,label_indice,div_times=2,frontend_name='VGG16',block_num=5,IF_pre_bn=False,IF_freeze_bn=False,load_weights=True,psize=64,pstride = 64,parse_method ='maxp')\n",
    "# mod_path='best_epoch.pth'\n",
    "all_state_dict = torch.load('/home/ubuntu/mayub/Github/SS-DCNet/SHA/best_epoch.pth',map_location=torch.device('cpu'))\n",
    "net.load_state_dict(all_state_dict['net_state_dict'])"
   ]
  },
  {
   "cell_type": "code",
   "execution_count": 18,
   "metadata": {
    "scrolled": true
   },
   "outputs": [
    {
     "data": {
      "text/plain": [
       "SSDCNet_classify(\n",
       "  (front_end): VGG16_frontend(\n",
       "    (features): Sequential(\n",
       "      (0): Conv2d(3, 64, kernel_size=(3, 3), stride=(1, 1), padding=(1, 1))\n",
       "      (1): ReLU(inplace=True)\n",
       "      (2): Conv2d(64, 64, kernel_size=(3, 3), stride=(1, 1), padding=(1, 1))\n",
       "      (3): ReLU(inplace=True)\n",
       "      (4): MaxPool2d(kernel_size=2, stride=2, padding=0, dilation=1, ceil_mode=False)\n",
       "      (5): Conv2d(64, 128, kernel_size=(3, 3), stride=(1, 1), padding=(1, 1))\n",
       "      (6): ReLU(inplace=True)\n",
       "      (7): Conv2d(128, 128, kernel_size=(3, 3), stride=(1, 1), padding=(1, 1))\n",
       "      (8): ReLU(inplace=True)\n",
       "      (9): MaxPool2d(kernel_size=2, stride=2, padding=0, dilation=1, ceil_mode=False)\n",
       "      (10): Conv2d(128, 256, kernel_size=(3, 3), stride=(1, 1), padding=(1, 1))\n",
       "      (11): ReLU(inplace=True)\n",
       "      (12): Conv2d(256, 256, kernel_size=(3, 3), stride=(1, 1), padding=(1, 1))\n",
       "      (13): ReLU(inplace=True)\n",
       "      (14): Conv2d(256, 256, kernel_size=(3, 3), stride=(1, 1), padding=(1, 1))\n",
       "      (15): ReLU(inplace=True)\n",
       "      (16): MaxPool2d(kernel_size=2, stride=2, padding=0, dilation=1, ceil_mode=False)\n",
       "      (17): Conv2d(256, 512, kernel_size=(3, 3), stride=(1, 1), padding=(1, 1))\n",
       "      (18): ReLU(inplace=True)\n",
       "      (19): Conv2d(512, 512, kernel_size=(3, 3), stride=(1, 1), padding=(1, 1))\n",
       "      (20): ReLU(inplace=True)\n",
       "      (21): Conv2d(512, 512, kernel_size=(3, 3), stride=(1, 1), padding=(1, 1))\n",
       "      (22): ReLU(inplace=True)\n",
       "      (23): MaxPool2d(kernel_size=2, stride=2, padding=0, dilation=1, ceil_mode=False)\n",
       "      (24): Conv2d(512, 512, kernel_size=(3, 3), stride=(1, 1), padding=(1, 1))\n",
       "      (25): ReLU(inplace=True)\n",
       "      (26): Conv2d(512, 512, kernel_size=(3, 3), stride=(1, 1), padding=(1, 1))\n",
       "      (27): ReLU(inplace=True)\n",
       "      (28): Conv2d(512, 512, kernel_size=(3, 3), stride=(1, 1), padding=(1, 1))\n",
       "      (29): ReLU(inplace=True)\n",
       "      (30): MaxPool2d(kernel_size=2, stride=2, padding=0, dilation=1, ceil_mode=False)\n",
       "    )\n",
       "  )\n",
       "  (back_end_up): Sequential(\n",
       "    (0): up(\n",
       "      (up): Upsample(scale_factor=2.0, mode=bilinear)\n",
       "      (conv1): one_conv(\n",
       "        (conv): Sequential(\n",
       "          (0): Conv2d(512, 256, kernel_size=(3, 3), stride=(1, 1), padding=(1, 1))\n",
       "          (1): ReLU(inplace=True)\n",
       "        )\n",
       "      )\n",
       "      (conv2): double_conv(\n",
       "        (conv): Sequential(\n",
       "          (0): Conv2d(768, 512, kernel_size=(3, 3), stride=(1, 1), padding=(1, 1))\n",
       "          (1): ReLU(inplace=True)\n",
       "          (2): Conv2d(512, 512, kernel_size=(3, 3), stride=(1, 1), padding=(1, 1))\n",
       "          (3): ReLU(inplace=True)\n",
       "        )\n",
       "      )\n",
       "    )\n",
       "    (1): up(\n",
       "      (up): Upsample(scale_factor=2.0, mode=bilinear)\n",
       "      (conv1): one_conv(\n",
       "        (conv): Sequential(\n",
       "          (0): Conv2d(512, 256, kernel_size=(3, 3), stride=(1, 1), padding=(1, 1))\n",
       "          (1): ReLU(inplace=True)\n",
       "        )\n",
       "      )\n",
       "      (conv2): double_conv(\n",
       "        (conv): Sequential(\n",
       "          (0): Conv2d(512, 512, kernel_size=(3, 3), stride=(1, 1), padding=(1, 1))\n",
       "          (1): ReLU(inplace=True)\n",
       "          (2): Conv2d(512, 512, kernel_size=(3, 3), stride=(1, 1), padding=(1, 1))\n",
       "          (3): ReLU(inplace=True)\n",
       "        )\n",
       "      )\n",
       "    )\n",
       "  )\n",
       "  (back_end_cls): Sequential(\n",
       "    (0): AvgPool2d(kernel_size=(2, 2), stride=2, padding=0)\n",
       "    (1): Conv2d(512, 512, kernel_size=(1, 1), stride=(1, 1))\n",
       "    (2): ReLU()\n",
       "    (3): Conv2d(512, 55, kernel_size=(1, 1), stride=(1, 1))\n",
       "  )\n",
       "  (back_end_lw_fc): Sequential(\n",
       "    (0): AvgPool2d(kernel_size=(2, 2), stride=2, padding=0)\n",
       "    (1): Conv2d(512, 512, kernel_size=(1, 1), stride=(1, 1))\n",
       "    (2): ReLU()\n",
       "    (3): Conv2d(512, 1, kernel_size=(1, 1), stride=(1, 1))\n",
       "  )\n",
       "  (back_end_denisty): Sequential(\n",
       "    (0): Conv2d(512, 512, kernel_size=(1, 1), stride=(1, 1))\n",
       "    (1): ReLU()\n",
       "    (2): Conv2d(512, 1, kernel_size=(1, 1), stride=(1, 1))\n",
       "  )\n",
       ")"
      ]
     },
     "execution_count": 18,
     "metadata": {},
     "output_type": "execute_result"
    }
   ],
   "source": [
    "net.eval()"
   ]
  },
  {
   "cell_type": "code",
   "execution_count": 21,
   "metadata": {},
   "outputs": [],
   "source": [
    "# example = torch.rand(1, 3, 224, 224)\n",
    "example = torch.rand(1, 3, 768, 1024)"
   ]
  },
  {
   "cell_type": "code",
   "execution_count": 22,
   "metadata": {},
   "outputs": [
    {
     "name": "stderr",
     "output_type": "stream",
     "text": [
      "/home/ubuntu/anaconda3/envs/Crowd_Detection_mayub/lib/python3.6/site-packages/torch/tensor.py:426: RuntimeWarning: Iterating over a tensor might cause the trace to be incorrect. Passing a tensor of different shape won't change the number of iterations executed (and might lead to errors or silently give incorrect results).\n",
      "  'incorrect results).', category=RuntimeWarning)\n"
     ]
    },
    {
     "ename": "RuntimeError",
     "evalue": "Tracer cannot infer type of {'conv1': [], 'conv2': [], 'conv3': tensor([[[[ 0.0000,  0.0000,  0.0000,  ...,  0.0000,  0.0000,  0.0000],\n          [ 0.0000, 10.7944, 12.7899,  ..., 19.2663,  1.8643,  5.8381],\n          [ 0.0000,  7.0714,  8.2250,  ...,  6.6337,  8.9443,  4.3685],\n          ...,\n          [ 0.0000,  0.0000,  0.1529,  ...,  0.0000,  3.9005,  2.5733],\n          [ 0.0000,  0.0000,  1.3247,  ...,  9.6619,  5.4776, 12.0128],\n          [ 0.0000,  3.9498,  7.2731,  ..., 12.5920,  3.4570,  4.9324]],\n\n         [[ 6.2152,  4.2109,  1.4538,  ...,  9.0008,  4.8270,  5.3406],\n          [ 0.0000,  0.0000,  0.0000,  ...,  0.0000,  0.0000,  0.0000],\n          [ 0.0000,  0.0000,  0.0000,  ...,  0.0000,  0.0000,  0.0000],\n          ...,\n          [ 0.0000,  0.0000,  0.0000,  ...,  0.0000,  0.0000,  0.0000],\n          [ 2.7461,  0.0000,  0.0000,  ...,  0.0000,  0.0000,  0.0000],\n          [ 0.0000,  0.0000,  0.0000,  ...,  0.0000,  0.0000,  0.0000]],\n\n         [[ 3.3530, 12.9000,  0.0000,  ..., 10.2020,  5.6883, 13.4378],\n          [ 8.3358,  0.0000,  0.4850,  ...,  0.0000,  0.0000,  1.2402],\n          [10.6660,  0.0000,  0.0000,  ...,  0.0000,  2.6775,  3.4912],\n          ...,\n          [ 7.2844,  0.0000,  0.0000,  ...,  0.0000,  2.4160,  4.3557],\n          [ 0.0000,  0.0000,  3.2270,  ...,  0.0000,  0.0000, 14.2611],\n          [ 0.0000,  8.8993,  8.3703,  ...,  0.0000,  9.0703,  7.7137]],\n\n         ...,\n\n         [[ 0.0000,  6.9046,  8.8958,  ..., 13.0320,  2.4187,  8.6959],\n          [ 0.0000,  0.0000,  0.0000,  ...,  0.0000,  0.0000,  0.0000],\n          [ 0.0000,  0.0000,  0.0000,  ...,  0.0000,  0.0000,  1.3236],\n          ...,\n          [ 0.0000,  0.0000,  0.0000,  ...,  0.0000,  0.0000,  0.0000],\n          [ 0.0000,  0.0000,  0.0000,  ...,  0.0000,  0.0000,  1.7601],\n          [ 2.6597,  0.0000,  0.0000,  ...,  0.0000,  0.0000,  0.0000]],\n\n         [[ 0.0000,  0.0000, 27.1142,  ...,  2.5222,  4.2344, 16.2329],\n          [13.0420,  5.2728,  3.5170,  ...,  0.0000,  2.5529, 12.2657],\n          [ 7.4807,  2.7274,  4.9321,  ...,  0.0000,  1.3603,  9.9757],\n          ...,\n          [ 0.0000,  5.1109,  0.0000,  ...,  0.0000, 12.0808, 12.9898],\n          [ 5.5294,  4.1575,  7.9874,  ..., 11.1128,  7.7980, 20.6503],\n          [10.8941, 31.3485, 13.9562,  ..., 16.0611,  6.2370, 12.5933]],\n\n         [[ 2.4946,  0.0000,  0.0000,  ...,  0.0000,  0.0000,  0.0000],\n          [14.3443,  0.0000,  0.0000,  ...,  0.0000,  0.0000,  0.0000],\n          [ 0.6402,  0.0000,  0.0000,  ...,  0.0000,  0.0000,  0.0000],\n          ...,\n          [ 5.3813,  0.0000,  0.0000,  ...,  0.0000,  0.0000,  0.0000],\n          [ 4.0173,  0.0000,  0.0000,  ...,  0.0000,  0.2018,  0.0000],\n          [15.4178,  6.2313,  4.7818,  ...,  5.4549,  0.0000, 14.1680]]]],\n       grad_fn=<MaxPool2DWithIndicesBackward>), 'conv4': tensor([[[[0.0000, 0.0000, 0.0000,  ..., 0.0000, 0.0000, 0.0000],\n          [0.0000, 0.0000, 0.0000,  ..., 0.0000, 1.0539, 0.0000],\n          [0.0000, 0.0000, 0.0000,  ..., 0.0000, 0.0000, 0.0000],\n          ...,\n          [0.0000, 0.0000, 0.0000,  ..., 0.0000, 0.0000, 0.0000],\n          [0.0000, 0.0658, 0.2390,  ..., 0.0000, 0.0000, 0.0000],\n          [0.0000, 0.0000, 0.0000,  ..., 0.0000, 0.0000, 0.0000]],\n\n         [[0.0000, 0.0000, 0.0000,  ..., 0.0000, 0.0000, 0.0000],\n          [0.0000, 0.0000, 0.0000,  ..., 0.0000, 0.0000, 0.0000],\n          [0.0000, 0.0000, 0.0000,  ..., 0.0000, 0.0000, 0.0000],\n          ...,\n          [0.0000, 0.0000, 0.0000,  ..., 0.0000, 0.0000, 0.0000],\n          [0.0000, 0.0000, 0.0000,  ..., 0.0000, 0.0000, 0.0000],\n          [0.0000, 0.0000, 0.0000,  ..., 0.0000, 0.0000, 0.0000]],\n\n         [[0.6219, 0.0000, 0.0000,  ..., 0.0000, 0.0000, 0.0000],\n          [0.0000, 0.0000, 0.0000,  ..., 0.0000, 0.0000, 0.0000],\n          [0.0000, 0.0000, 0.0000,  ..., 0.0000, 0.0000, 0.0000],\n          ...,\n          [0.0000, 0.0000, 0.0000,  ..., 0.0000, 0.0000, 0.0000],\n          [0.0000, 0.0000, 0.0000,  ..., 0.0000, 0.0000, 0.0000],\n          [1.3965, 0.0000, 0.0000,  ..., 0.0000, 0.0000, 0.0000]],\n\n         ...,\n\n         [[0.0000, 0.0000, 0.0000,  ..., 0.0000, 0.0000, 0.0000],\n          [0.0000, 0.0000, 0.0000,  ..., 0.0000, 0.0000, 0.0000],\n          [0.0000, 0.0000, 0.0000,  ..., 0.0000, 0.0000, 0.0000],\n          ...,\n          [0.0000, 0.0000, 0.0000,  ..., 0.0000, 0.0000, 0.0000],\n          [0.0000, 0.0000, 0.0000,  ..., 0.0000, 0.0000, 0.0000],\n          [0.0000, 0.0000, 0.0000,  ..., 0.0000, 0.0000, 0.0000]],\n\n         [[0.0000, 0.0000, 0.0000,  ..., 0.0000, 0.0000, 0.0000],\n          [0.0000, 0.0000, 0.0000,  ..., 0.0000, 0.0000, 0.0000],\n          [0.0000, 0.0000, 0.6745,  ..., 0.0000, 0.0000, 0.0000],\n          ...,\n          [0.0000, 0.0000, 0.0000,  ..., 0.0000, 0.7359, 0.0000],\n          [0.0000, 0.0000, 0.0000,  ..., 0.0000, 0.0000, 0.0000],\n          [0.0000, 0.0000, 0.0000,  ..., 0.0000, 0.0000, 0.0000]],\n\n         [[1.6867, 5.0112, 3.1645,  ..., 0.6046, 2.9714, 0.0000],\n          [0.0000, 0.0000, 0.0000,  ..., 0.0000, 0.0000, 0.0000],\n          [0.0000, 0.0000, 0.0000,  ..., 0.0000, 0.0000, 0.0000],\n          ...,\n          [0.1528, 0.0000, 0.0000,  ..., 0.0000, 0.0000, 0.0000],\n          [0.0000, 0.0000, 0.0000,  ..., 0.0000, 0.0000, 0.0000],\n          [0.0000, 0.0000, 0.0000,  ..., 2.5369, 1.0550, 2.8817]]]],\n       grad_fn=<MaxPool2DWithIndicesBackward>), 'conv5': tensor([[[[1.3796e+01, 1.4452e+01, 1.2862e+01,  ..., 6.7781e+00,\n           9.2815e+00, 9.9267e+00],\n          [8.3384e+00, 8.3635e+00, 4.7208e+00,  ..., 7.1589e-01,\n           1.5264e+00, 1.6482e+00],\n          [2.8230e+00, 6.3764e-01, 0.0000e+00,  ..., 0.0000e+00,\n           0.0000e+00, 7.7796e-01],\n          ...,\n          [4.9598e+00, 2.4025e+00, 0.0000e+00,  ..., 0.0000e+00,\n           0.0000e+00, 1.0588e+00],\n          [5.8041e+00, 3.8463e+00, 0.0000e+00,  ..., 8.4420e-03,\n           4.0681e-01, 2.0312e+00],\n          [6.6123e+00, 5.5535e+00, 2.7047e+00,  ..., 2.8173e+00,\n           3.5163e+00, 5.7462e+00]],\n\n         [[2.1448e+00, 2.8523e+00, 1.5730e+00,  ..., 9.4367e-01,\n           2.1874e+00, 1.3170e+00],\n          [4.5012e+00, 4.9501e+00, 2.8207e+00,  ..., 1.8323e+00,\n           4.1885e+00, 4.0239e+00],\n          [7.6315e-01, 2.9784e-01, 0.0000e+00,  ..., 0.0000e+00,\n           0.0000e+00, 8.0759e-01],\n          ...,\n          [2.9077e+00, 2.0675e+00, 0.0000e+00,  ..., 0.0000e+00,\n           9.1627e-01, 8.6342e-01],\n          [4.7475e+00, 3.7969e+00, 1.4891e+00,  ..., 2.4889e-01,\n           2.4533e+00, 2.8074e+00],\n          [2.3529e+00, 2.9757e+00, 2.3051e+00,  ..., 9.2457e-01,\n           1.9125e+00, 1.6066e+00]],\n\n         [[0.0000e+00, 0.0000e+00, 0.0000e+00,  ..., 0.0000e+00,\n           0.0000e+00, 0.0000e+00],\n          [0.0000e+00, 0.0000e+00, 0.0000e+00,  ..., 0.0000e+00,\n           0.0000e+00, 0.0000e+00],\n          [0.0000e+00, 0.0000e+00, 0.0000e+00,  ..., 0.0000e+00,\n           0.0000e+00, 0.0000e+00],\n          ...,\n          [0.0000e+00, 0.0000e+00, 0.0000e+00,  ..., 0.0000e+00,\n           0.0000e+00, 0.0000e+00],\n          [0.0000e+00, 0.0000e+00, 0.0000e+00,  ..., 0.0000e+00,\n           0.0000e+00, 0.0000e+00],\n          [0.0000e+00, 0.0000e+00, 0.0000e+00,  ..., 0.0000e+00,\n           0.0000e+00, 0.0000e+00]],\n\n         ...,\n\n         [[0.0000e+00, 0.0000e+00, 0.0000e+00,  ..., 0.0000e+00,\n           0.0000e+00, 0.0000e+00],\n          [0.0000e+00, 0.0000e+00, 0.0000e+00,  ..., 0.0000e+00,\n           0.0000e+00, 0.0000e+00],\n          [0.0000e+00, 0.0000e+00, 0.0000e+00,  ..., 0.0000e+00,\n           0.0000e+00, 0.0000e+00],\n          ...,\n          [0.0000e+00, 0.0000e+00, 0.0000e+00,  ..., 0.0000e+00,\n           0.0000e+00, 0.0000e+00],\n          [0.0000e+00, 0.0000e+00, 0.0000e+00,  ..., 0.0000e+00,\n           0.0000e+00, 0.0000e+00],\n          [0.0000e+00, 0.0000e+00, 0.0000e+00,  ..., 0.0000e+00,\n           0.0000e+00, 0.0000e+00]],\n\n         [[0.0000e+00, 0.0000e+00, 0.0000e+00,  ..., 0.0000e+00,\n           0.0000e+00, 0.0000e+00],\n          [0.0000e+00, 0.0000e+00, 0.0000e+00,  ..., 0.0000e+00,\n           0.0000e+00, 0.0000e+00],\n          [0.0000e+00, 0.0000e+00, 0.0000e+00,  ..., 0.0000e+00,\n           0.0000e+00, 0.0000e+00],\n          ...,\n          [0.0000e+00, 0.0000e+00, 0.0000e+00,  ..., 0.0000e+00,\n           0.0000e+00, 0.0000e+00],\n          [1.1057e+00, 2.5535e-01, 0.0000e+00,  ..., 0.0000e+00,\n           0.0000e+00, 0.0000e+00],\n          [0.0000e+00, 0.0000e+00, 0.0000e+00,  ..., 0.0000e+00,\n           0.0000e+00, 0.0000e+00]],\n\n         [[8.2280e-02, 2.7121e+00, 3.0622e+00,  ..., 2.3801e+00,\n           4.3697e+00, 1.9868e+00],\n          [2.6579e+00, 5.2237e+00, 4.1553e+00,  ..., 4.4512e+00,\n           5.2473e+00, 3.5402e+00],\n          [0.0000e+00, 2.0596e+00, 4.3195e-01,  ..., 4.8868e-01,\n           2.0991e-01, 0.0000e+00],\n          ...,\n          [4.6866e+00, 6.1409e+00, 6.4256e-01,  ..., 0.0000e+00,\n           2.2996e+00, 1.2674e+00],\n          [5.3775e+00, 6.8193e+00, 3.7130e+00,  ..., 4.2376e+00,\n           4.7349e+00, 3.6980e+00],\n          [0.0000e+00, 4.8565e-01, 1.4950e-01,  ..., 2.2111e+00,\n           1.1456e+00, 5.6986e-01]]]], grad_fn=<MaxPool2DWithIndicesBackward>)}\n:List trace inputs must have elements (toTraceableIValue at /opt/conda/conda-bld/pytorch_1573049304260/work/torch/csrc/jit/pybind_utils.h:286)\nframe #0: c10::Error::Error(c10::SourceLocation, std::string const&) + 0x47 (0x7f3cc8476687 in /home/ubuntu/anaconda3/envs/Crowd_Detection_mayub/lib/python3.6/site-packages/torch/lib/libc10.so)\nframe #1: <unknown function> + 0x4f9175 (0x7f3cfdeb6175 in /home/ubuntu/anaconda3/envs/Crowd_Detection_mayub/lib/python3.6/site-packages/torch/lib/libtorch_python.so)\nframe #2: <unknown function> + 0x5731e2 (0x7f3cfdf301e2 in /home/ubuntu/anaconda3/envs/Crowd_Detection_mayub/lib/python3.6/site-packages/torch/lib/libtorch_python.so)\nframe #3: <unknown function> + 0x58a724 (0x7f3cfdf47724 in /home/ubuntu/anaconda3/envs/Crowd_Detection_mayub/lib/python3.6/site-packages/torch/lib/libtorch_python.so)\nframe #4: <unknown function> + 0x206b86 (0x7f3cfdbc3b86 in /home/ubuntu/anaconda3/envs/Crowd_Detection_mayub/lib/python3.6/site-packages/torch/lib/libtorch_python.so)\nframe #5: _PyCFunction_FastCallDict + 0x154 (0x55b2047adc54 in /home/ubuntu/anaconda3/envs/Crowd_Detection_mayub/bin/python)\nframe #6: <unknown function> + 0x199c0e (0x55b204835c0e in /home/ubuntu/anaconda3/envs/Crowd_Detection_mayub/bin/python)\nframe #7: _PyEval_EvalFrameDefault + 0x30a (0x55b20485875a in /home/ubuntu/anaconda3/envs/Crowd_Detection_mayub/bin/python)\nframe #8: <unknown function> + 0x192e66 (0x55b20482ee66 in /home/ubuntu/anaconda3/envs/Crowd_Detection_mayub/bin/python)\nframe #9: <unknown function> + 0x193e73 (0x55b20482fe73 in /home/ubuntu/anaconda3/envs/Crowd_Detection_mayub/bin/python)\nframe #10: <unknown function> + 0x199b95 (0x55b204835b95 in /home/ubuntu/anaconda3/envs/Crowd_Detection_mayub/bin/python)\nframe #11: _PyEval_EvalFrameDefault + 0x30a (0x55b20485875a in /home/ubuntu/anaconda3/envs/Crowd_Detection_mayub/bin/python)\nframe #12: <unknown function> + 0x192e66 (0x55b20482ee66 in /home/ubuntu/anaconda3/envs/Crowd_Detection_mayub/bin/python)\nframe #13: <unknown function> + 0x193e73 (0x55b20482fe73 in /home/ubuntu/anaconda3/envs/Crowd_Detection_mayub/bin/python)\nframe #14: <unknown function> + 0x199b95 (0x55b204835b95 in /home/ubuntu/anaconda3/envs/Crowd_Detection_mayub/bin/python)\nframe #15: _PyEval_EvalFrameDefault + 0x30a (0x55b20485875a in /home/ubuntu/anaconda3/envs/Crowd_Detection_mayub/bin/python)\nframe #16: PyEval_EvalCodeEx + 0x329 (0x55b2048309b9 in /home/ubuntu/anaconda3/envs/Crowd_Detection_mayub/bin/python)\nframe #17: PyEval_EvalCode + 0x1c (0x55b20483175c in /home/ubuntu/anaconda3/envs/Crowd_Detection_mayub/bin/python)\nframe #18: <unknown function> + 0x1ba167 (0x55b204856167 in /home/ubuntu/anaconda3/envs/Crowd_Detection_mayub/bin/python)\nframe #19: _PyCFunction_FastCallDict + 0x91 (0x55b2047adb91 in /home/ubuntu/anaconda3/envs/Crowd_Detection_mayub/bin/python)\nframe #20: <unknown function> + 0x199abc (0x55b204835abc in /home/ubuntu/anaconda3/envs/Crowd_Detection_mayub/bin/python)\nframe #21: _PyEval_EvalFrameDefault + 0x30a (0x55b20485875a in /home/ubuntu/anaconda3/envs/Crowd_Detection_mayub/bin/python)\nframe #22: _PyGen_Send + 0x256 (0x55b204838be6 in /home/ubuntu/anaconda3/envs/Crowd_Detection_mayub/bin/python)\nframe #23: _PyEval_EvalFrameDefault + 0x144f (0x55b20485989f in /home/ubuntu/anaconda3/envs/Crowd_Detection_mayub/bin/python)\nframe #24: _PyGen_Send + 0x256 (0x55b204838be6 in /home/ubuntu/anaconda3/envs/Crowd_Detection_mayub/bin/python)\nframe #25: _PyEval_EvalFrameDefault + 0x144f (0x55b20485989f in /home/ubuntu/anaconda3/envs/Crowd_Detection_mayub/bin/python)\nframe #26: _PyGen_Send + 0x256 (0x55b204838be6 in /home/ubuntu/anaconda3/envs/Crowd_Detection_mayub/bin/python)\nframe #27: _PyCFunction_FastCallDict + 0x115 (0x55b2047adc15 in /home/ubuntu/anaconda3/envs/Crowd_Detection_mayub/bin/python)\nframe #28: <unknown function> + 0x199abc (0x55b204835abc in /home/ubuntu/anaconda3/envs/Crowd_Detection_mayub/bin/python)\nframe #29: _PyEval_EvalFrameDefault + 0x30a (0x55b20485875a in /home/ubuntu/anaconda3/envs/Crowd_Detection_mayub/bin/python)\nframe #30: <unknown function> + 0x193c5b (0x55b20482fc5b in /home/ubuntu/anaconda3/envs/Crowd_Detection_mayub/bin/python)\nframe #31: <unknown function> + 0x199b95 (0x55b204835b95 in /home/ubuntu/anaconda3/envs/Crowd_Detection_mayub/bin/python)\nframe #32: _PyEval_EvalFrameDefault + 0x30a (0x55b20485875a in /home/ubuntu/anaconda3/envs/Crowd_Detection_mayub/bin/python)\nframe #33: <unknown function> + 0x193c5b (0x55b20482fc5b in /home/ubuntu/anaconda3/envs/Crowd_Detection_mayub/bin/python)\nframe #34: <unknown function> + 0x199b95 (0x55b204835b95 in /home/ubuntu/anaconda3/envs/Crowd_Detection_mayub/bin/python)\nframe #35: _PyEval_EvalFrameDefault + 0x30a (0x55b20485875a in /home/ubuntu/anaconda3/envs/Crowd_Detection_mayub/bin/python)\nframe #36: <unknown function> + 0x192e66 (0x55b20482ee66 in /home/ubuntu/anaconda3/envs/Crowd_Detection_mayub/bin/python)\nframe #37: _PyFunction_FastCallDict + 0x3d8 (0x55b204830598 in /home/ubuntu/anaconda3/envs/Crowd_Detection_mayub/bin/python)\nframe #38: _PyObject_FastCallDict + 0x26f (0x55b2047ae01f in /home/ubuntu/anaconda3/envs/Crowd_Detection_mayub/bin/python)\nframe #39: _PyObject_Call_Prepend + 0x63 (0x55b2047b2aa3 in /home/ubuntu/anaconda3/envs/Crowd_Detection_mayub/bin/python)\nframe #40: PyObject_Call + 0x3e (0x55b2047ada5e in /home/ubuntu/anaconda3/envs/Crowd_Detection_mayub/bin/python)\nframe #41: _PyEval_EvalFrameDefault + 0x19e7 (0x55b204859e37 in /home/ubuntu/anaconda3/envs/Crowd_Detection_mayub/bin/python)\nframe #42: <unknown function> + 0x193136 (0x55b20482f136 in /home/ubuntu/anaconda3/envs/Crowd_Detection_mayub/bin/python)\nframe #43: <unknown function> + 0x193ed6 (0x55b20482fed6 in /home/ubuntu/anaconda3/envs/Crowd_Detection_mayub/bin/python)\nframe #44: <unknown function> + 0x199b95 (0x55b204835b95 in /home/ubuntu/anaconda3/envs/Crowd_Detection_mayub/bin/python)\nframe #45: _PyEval_EvalFrameDefault + 0x10cc (0x55b20485951c in /home/ubuntu/anaconda3/envs/Crowd_Detection_mayub/bin/python)\nframe #46: <unknown function> + 0x19c764 (0x55b204838764 in /home/ubuntu/anaconda3/envs/Crowd_Detection_mayub/bin/python)\nframe #47: _PyCFunction_FastCallDict + 0x91 (0x55b2047adb91 in /home/ubuntu/anaconda3/envs/Crowd_Detection_mayub/bin/python)\nframe #48: <unknown function> + 0x199abc (0x55b204835abc in /home/ubuntu/anaconda3/envs/Crowd_Detection_mayub/bin/python)\nframe #49: _PyEval_EvalFrameDefault + 0x30a (0x55b20485875a in /home/ubuntu/anaconda3/envs/Crowd_Detection_mayub/bin/python)\nframe #50: <unknown function> + 0x193136 (0x55b20482f136 in /home/ubuntu/anaconda3/envs/Crowd_Detection_mayub/bin/python)\nframe #51: <unknown function> + 0x193ed6 (0x55b20482fed6 in /home/ubuntu/anaconda3/envs/Crowd_Detection_mayub/bin/python)\nframe #52: <unknown function> + 0x199b95 (0x55b204835b95 in /home/ubuntu/anaconda3/envs/Crowd_Detection_mayub/bin/python)\nframe #53: _PyEval_EvalFrameDefault + 0x30a (0x55b20485875a in /home/ubuntu/anaconda3/envs/Crowd_Detection_mayub/bin/python)\nframe #54: <unknown function> + 0x19c764 (0x55b204838764 in /home/ubuntu/anaconda3/envs/Crowd_Detection_mayub/bin/python)\nframe #55: _PyCFunction_FastCallDict + 0x91 (0x55b2047adb91 in /home/ubuntu/anaconda3/envs/Crowd_Detection_mayub/bin/python)\nframe #56: <unknown function> + 0x199abc (0x55b204835abc in /home/ubuntu/anaconda3/envs/Crowd_Detection_mayub/bin/python)\nframe #57: _PyEval_EvalFrameDefault + 0x30a (0x55b20485875a in /home/ubuntu/anaconda3/envs/Crowd_Detection_mayub/bin/python)\nframe #58: <unknown function> + 0x193136 (0x55b20482f136 in /home/ubuntu/anaconda3/envs/Crowd_Detection_mayub/bin/python)\nframe #59: <unknown function> + 0x193ed6 (0x55b20482fed6 in /home/ubuntu/anaconda3/envs/Crowd_Detection_mayub/bin/python)\nframe #60: <unknown function> + 0x199b95 (0x55b204835b95 in /home/ubuntu/anaconda3/envs/Crowd_Detection_mayub/bin/python)\nframe #61: _PyEval_EvalFrameDefault + 0x30a (0x55b20485875a in /home/ubuntu/anaconda3/envs/Crowd_Detection_mayub/bin/python)\nframe #62: <unknown function> + 0x19c764 (0x55b204838764 in /home/ubuntu/anaconda3/envs/Crowd_Detection_mayub/bin/python)\nframe #63: _PyCFunction_FastCallDict + 0x91 (0x55b2047adb91 in /home/ubuntu/anaconda3/envs/Crowd_Detection_mayub/bin/python)\n",
     "output_type": "error",
     "traceback": [
      "\u001b[0;31m---------------------------------------------------------------------------\u001b[0m",
      "\u001b[0;31mRuntimeError\u001b[0m                              Traceback (most recent call last)",
      "\u001b[0;32m<ipython-input-22-af5c103c2ac9>\u001b[0m in \u001b[0;36m<module>\u001b[0;34m\u001b[0m\n\u001b[0;32m----> 1\u001b[0;31m \u001b[0mtraced_script_module\u001b[0m \u001b[0;34m=\u001b[0m \u001b[0mtorch\u001b[0m\u001b[0;34m.\u001b[0m\u001b[0mjit\u001b[0m\u001b[0;34m.\u001b[0m\u001b[0mtrace\u001b[0m\u001b[0;34m(\u001b[0m\u001b[0mnet\u001b[0m\u001b[0;34m,\u001b[0m \u001b[0mexample\u001b[0m\u001b[0;34m)\u001b[0m\u001b[0;34m\u001b[0m\u001b[0;34m\u001b[0m\u001b[0m\n\u001b[0m",
      "\u001b[0;32m~/anaconda3/envs/Crowd_Detection_mayub/lib/python3.6/site-packages/torch/jit/__init__.py\u001b[0m in \u001b[0;36mtrace\u001b[0;34m(func, example_inputs, optimize, check_trace, check_inputs, check_tolerance, _force_outplace, _module_class, _compilation_unit)\u001b[0m\n\u001b[1;32m    856\u001b[0m         return trace_module(func, {'forward': example_inputs}, None,\n\u001b[1;32m    857\u001b[0m                             \u001b[0mcheck_trace\u001b[0m\u001b[0;34m,\u001b[0m \u001b[0mwrap_check_inputs\u001b[0m\u001b[0;34m(\u001b[0m\u001b[0mcheck_inputs\u001b[0m\u001b[0;34m)\u001b[0m\u001b[0;34m,\u001b[0m\u001b[0;34m\u001b[0m\u001b[0;34m\u001b[0m\u001b[0m\n\u001b[0;32m--> 858\u001b[0;31m                             check_tolerance, _force_outplace, _module_class)\n\u001b[0m\u001b[1;32m    859\u001b[0m \u001b[0;34m\u001b[0m\u001b[0m\n\u001b[1;32m    860\u001b[0m     if (hasattr(func, '__self__') and isinstance(func.__self__, torch.nn.Module) and\n",
      "\u001b[0;32m~/anaconda3/envs/Crowd_Detection_mayub/lib/python3.6/site-packages/torch/jit/__init__.py\u001b[0m in \u001b[0;36mtrace_module\u001b[0;34m(mod, inputs, optimize, check_trace, check_inputs, check_tolerance, _force_outplace, _module_class, _compilation_unit)\u001b[0m\n\u001b[1;32m    995\u001b[0m         \u001b[0mfunc\u001b[0m \u001b[0;34m=\u001b[0m \u001b[0mmod\u001b[0m \u001b[0;32mif\u001b[0m \u001b[0mmethod_name\u001b[0m \u001b[0;34m==\u001b[0m \u001b[0;34m\"forward\"\u001b[0m \u001b[0;32melse\u001b[0m \u001b[0mgetattr\u001b[0m\u001b[0;34m(\u001b[0m\u001b[0mmod\u001b[0m\u001b[0;34m,\u001b[0m \u001b[0mmethod_name\u001b[0m\u001b[0;34m)\u001b[0m\u001b[0;34m\u001b[0m\u001b[0;34m\u001b[0m\u001b[0m\n\u001b[1;32m    996\u001b[0m         \u001b[0mexample_inputs\u001b[0m \u001b[0;34m=\u001b[0m \u001b[0mmake_tuple\u001b[0m\u001b[0;34m(\u001b[0m\u001b[0mexample_inputs\u001b[0m\u001b[0;34m)\u001b[0m\u001b[0;34m\u001b[0m\u001b[0;34m\u001b[0m\u001b[0m\n\u001b[0;32m--> 997\u001b[0;31m         \u001b[0mmodule\u001b[0m\u001b[0;34m.\u001b[0m\u001b[0m_c\u001b[0m\u001b[0;34m.\u001b[0m\u001b[0m_create_method_from_trace\u001b[0m\u001b[0;34m(\u001b[0m\u001b[0mmethod_name\u001b[0m\u001b[0;34m,\u001b[0m \u001b[0mfunc\u001b[0m\u001b[0;34m,\u001b[0m \u001b[0mexample_inputs\u001b[0m\u001b[0;34m,\u001b[0m \u001b[0mvar_lookup_fn\u001b[0m\u001b[0;34m,\u001b[0m \u001b[0m_force_outplace\u001b[0m\u001b[0;34m)\u001b[0m\u001b[0;34m\u001b[0m\u001b[0;34m\u001b[0m\u001b[0m\n\u001b[0m\u001b[1;32m    998\u001b[0m         \u001b[0mcheck_trace_method\u001b[0m \u001b[0;34m=\u001b[0m \u001b[0mmodule\u001b[0m\u001b[0;34m.\u001b[0m\u001b[0m_c\u001b[0m\u001b[0;34m.\u001b[0m\u001b[0m_get_method\u001b[0m\u001b[0;34m(\u001b[0m\u001b[0mmethod_name\u001b[0m\u001b[0;34m)\u001b[0m\u001b[0;34m\u001b[0m\u001b[0;34m\u001b[0m\u001b[0m\n\u001b[1;32m    999\u001b[0m \u001b[0;34m\u001b[0m\u001b[0m\n",
      "\u001b[0;31mRuntimeError\u001b[0m: Tracer cannot infer type of {'conv1': [], 'conv2': [], 'conv3': tensor([[[[ 0.0000,  0.0000,  0.0000,  ...,  0.0000,  0.0000,  0.0000],\n          [ 0.0000, 10.7944, 12.7899,  ..., 19.2663,  1.8643,  5.8381],\n          [ 0.0000,  7.0714,  8.2250,  ...,  6.6337,  8.9443,  4.3685],\n          ...,\n          [ 0.0000,  0.0000,  0.1529,  ...,  0.0000,  3.9005,  2.5733],\n          [ 0.0000,  0.0000,  1.3247,  ...,  9.6619,  5.4776, 12.0128],\n          [ 0.0000,  3.9498,  7.2731,  ..., 12.5920,  3.4570,  4.9324]],\n\n         [[ 6.2152,  4.2109,  1.4538,  ...,  9.0008,  4.8270,  5.3406],\n          [ 0.0000,  0.0000,  0.0000,  ...,  0.0000,  0.0000,  0.0000],\n          [ 0.0000,  0.0000,  0.0000,  ...,  0.0000,  0.0000,  0.0000],\n          ...,\n          [ 0.0000,  0.0000,  0.0000,  ...,  0.0000,  0.0000,  0.0000],\n          [ 2.7461,  0.0000,  0.0000,  ...,  0.0000,  0.0000,  0.0000],\n          [ 0.0000,  0.0000,  0.0000,  ...,  0.0000,  0.0000,  0.0000]],\n\n         [[ 3.3530, 12.9000,  0.0000,  ..., 10.2020,  5.6883, 13.4378],\n          [ 8.3358,  0.0000,  0.4850,  ...,  0.0000,  0.0000,  1.2402],\n          [10.6660,  0.0000,  0.0000,  ...,  0.0000,  2.6775,  3.4912],\n          ...,\n          [ 7.2844,  0.0000,  0.0000,  ...,  0.0000,  2.4160,  4.3557],\n          [ 0.0000,  0.0000,  3.2270,  ...,  0.0000,  0.0000, 14.2611],\n          [ 0.0000,  8.8993,  8.3703,  ...,  0.0000,  9.0703,  7.7137]],\n\n         ...,\n\n         [[ 0.0000,  6.9046,  8.8958,  ..., 13.0320,  2.4187,  8.6959],\n          [ 0.0000,  0.0000,  0.0000,  ...,  0.0000,  0.0000,  0.0000],\n          [ 0.0000,  0.0000,  0.0000,  ...,  0.0000,  0.0000,  1.3236],\n          ...,\n          [ 0.0000,  0.0000,  0.0000,  ...,  0.0000,  0.0000,  0.0000],\n          [ 0.0000,  0.0000,  0.0000,  ...,  0.0000,  0.0000,  1.7601],\n          [ 2.6597,  0.0000,  0.0000,  ...,  0.0000,  0.0000,  0.0000]],\n\n         [[ 0.0000,  0.0000, 27.1142,  ...,  2.5222,  4.2344, 16.2329],\n          [13.0420,  5.2728,  3.5170,  ...,  0.0000,  2.5529, 12.2657],\n          [ 7.4807,  2.7274,  4.9321,  ...,  0.0000,  1.3603,  9.9757],\n          ...,\n          [ 0.0000,  5.1109,  0.0000,  ...,  0.0000, 12.0808, 12.9898],\n          [ 5.5294,  4.1575,  7.9874,  ..., 11.1128,  7.7980, 20.6503],\n          [10.8941, 31.3485, 13.9562,  ..., 16.0611,  6.2370, 12.5933]],\n\n         [[ 2.4946,  0.0000,  0.0000,  ...,  0.0000,  0.0000,  0.0000],\n          [14.3443,  0.0000,  0.0000,  ...,  0.0000,  0.0000,  0.0000],\n          [ 0.6402,  0.0000,  0.0000,  ...,  0.0000,  0.0000,  0.0000],\n          ...,\n          [ 5.3813,  0.0000,  0.0000,  ...,  0.0000,  0.0000,  0.0000],\n          [ 4.0173,  0.0000,  0.0000,  ...,  0.0000,  0.2018,  0.0000],\n          [15.4178,  6.2313,  4.7818,  ...,  5.4549,  0.0000, 14.1680]]]],\n       grad_fn=<MaxPool2DWithIndicesBackward>), 'conv4': tensor([[[[0.0000, 0.0000, 0.0000,  ..., 0.0000, 0.0000, 0.0000],\n          [0.0000, 0.0000, 0.0000,  ..., 0.0000, 1.0539, 0.0000],\n          [0.0000, 0.0000, 0.0000,  ..., 0.0000, 0.0000, 0.0000],\n          ...,\n          [0.0000, 0.0000, 0.0000,  ..., 0.0000, 0.0000, 0.0000],\n          [0.0000, 0.0658, 0.2390,  ..., 0.0000, 0.0000, 0.0000],\n          [0.0000, 0.0000, 0.0000,  ..., 0.0000, 0.0000, 0.0000]],\n\n         [[0.0000, 0.0000, 0.0000,  ..., 0.0000, 0.0000, 0.0000],\n          [0.0000, 0.0000, 0.0000,  ..., 0.0000, 0.0000, 0.0000],\n          [0.0000, 0.0000, 0.0000,  ..., 0.0000, 0.0000, 0.0000],\n          ...,\n          [0.0000, 0.0000, 0.0000,  ..., 0.0000, 0.0000, 0.0000],\n          [0.0000, 0.0000, 0.0000,  ..., 0.0000, 0.0000, 0.0000],\n          [0.0000, 0.0000, 0.0000,  ..., 0.0000, 0.0000, 0.0000]],\n\n         [[0.6219, 0.0000, 0.0000,  ..., 0.0000, 0.0000, 0.0000],\n          [0.0000, 0.0000, 0.0000,  ..., 0.0000, 0.0000, 0.0000],\n          [0.0000, 0.0000, 0.0000,  ..., 0.0000, 0.0000, 0.0000],\n          ...,\n          [0.0000, 0.0000, 0.0000,  ..., 0.0000, 0.0000, 0.0000],\n          [0.0000, 0.0000, 0.0000,  ..., 0.0000, 0.0000, 0.0000],\n          [1.3965, 0.0000, 0.0000,  ..., 0.0000, 0.0000, 0.0000]],\n\n         ...,\n\n         [[0.0000, 0.0000, 0.0000,  ..., 0.0000, 0.0000, 0.0000],\n          [0.0000, 0.0000, 0.0000,  ..., 0.0000, 0.0000, 0.0000],\n          [0.0000, 0.0000, 0.0000,  ..., 0.0000, 0.0000, 0.0000],\n          ...,\n          [0.0000, 0.0000, 0.0000,  ..., 0.0000, 0.0000, 0.0000],\n          [0.0000, 0.0000, 0.0000,  ..., 0.0000, 0.0000, 0.0000],\n          [0.0000, 0.0000, 0.0000,  ..., 0.0000, 0.0000, 0.0000]],\n\n         [[0.0000, 0.0000, 0.0000,  ..., 0.0000, 0.0000, 0.0000],\n          [0.0000, 0.0000, 0.0000,  ..., 0.0000, 0.0000, 0.0000],\n          [0.0000, 0.0000, 0.6745,  ..., 0.0000, 0.0000, 0.0000],\n          ...,\n          [0.0000, 0.0000, 0.0000,  ..., 0.0000, 0.7359, 0.0000],\n          [0.0000, 0.0000, 0.0000,  ..., 0.0000, 0.0000, 0.0000],\n          [0.0000, 0.0000, 0.0000,  ..., 0.0000, 0.0000, 0.0000]],\n\n         [[1.6867, 5.0112, 3.1645,  ..., 0.6046, 2.9714, 0.0000],\n          [0.0000, 0.0000, 0.0000,  ..., 0.0000, 0.0000, 0.0000],\n          [0.0000, 0.0000, 0.0000,  ..., 0.0000, 0.0000, 0.0000],\n          ...,\n          [0.1528, 0.0000, 0.0000,  ..., 0.0000, 0.0000, 0.0000],\n          [0.0000, 0.0000, 0.0000,  ..., 0.0000, 0.0000, 0.0000],\n          [0.0000, 0.0000, 0.0000,  ..., 2.5369, 1.0550, 2.8817]]]],\n       grad_fn=<MaxPool2DWithIndicesBackward>), 'conv5': tensor([[[[1.3796e+01, 1.4452e+01, 1.2862e+01,  ..., 6.7781e+00,\n           9.2815e+00, 9.9267e+00],\n          [8.3384e+00, 8.3635e+00, 4.7208e+00,  ..., 7.1589e-01,\n           1.5264e+00, 1.6482e+00],\n          [2.8230e+00, 6.3764e-01, 0.0000e+00,  ..., 0.0000e+00,\n           0.0000e+00, 7.7796e-01],\n          ...,\n          [4.9598e+00, 2.4025e+00, 0.0000e+00,  ..., 0.0000e+00,\n           0.0000e+00, 1.0588e+00],\n          [5.8041e+00, 3.8463e+00, 0.0000e+00,  ..., 8.4420e-03,\n           4.0681e-01, 2.0312e+00],\n          [6.6123e+00, 5.5535e+00, 2.7047e+00,  ..., 2.8173e+00,\n           3.5163e+00, 5.7462e+00]],\n\n         [[2.1448e+00, 2.8523e+00, 1.5730e+00,  ..., 9.4367e-01,\n           2.1874e+00, 1.3170e+00],\n          [4.5012e+00, 4.9501e+00, 2.8207e+00,  ..., 1.8323e+00,\n           4.1885e+00, 4.0239e+00],\n          [7.6315e-01, 2.9784e-01, 0.0000e+00,  ..., 0.0000e+00,\n           0.0000e+00, 8.0759e-01],\n          ...,\n          [2.9077e+00, 2.0675e+00, 0.0000e+00,  ..., 0.0000e+00,\n           9.1627e-01, 8.6342e-01],\n          [4.7475e+00, 3.7969e+00, 1.4891e+00,  ..., 2.4889e-01,\n           2.4533e+00, 2.8074e+00],\n          [2.3529e+00, 2.9757e+00, 2.3051e+00,  ..., 9.2457e-01,\n           1.9125e+00, 1.6066e+00]],\n\n         [[0.0000e+00, 0.0000e+00, 0.0000e+00,  ..., 0.0000e+00,\n           0.0000e+00, 0.0000e+00],\n          [0.0000e+00, 0.0000e+00, 0.0000e+00,  ..., 0.0000e+00,\n           0.0000e+00, 0.0000e+00],\n          [0.0000e+00, 0.0000e+00, 0.0000e+00,  ..., 0.0000e+00,\n           0.0000e+00, 0.0000e+00],\n          ...,\n          [0.0000e+00, 0.0000e+00, 0.0000e+00,  ..., 0.0000e+00,\n           0.0000e+00, 0.0000e+00],\n          [0.0000e+00, 0.0000e+00, 0.0000e+00,  ..., 0.0000e+00,\n           0.0000e+00, 0.0000e+00],\n          [0.0000e+00, 0.0000e+00, 0.0000e+00,  ..., 0.0000e+00,\n           0.0000e+00, 0.0000e+00]],\n\n         ...,\n\n         [[0.0000e+00, 0.0000e+00, 0.0000e+00,  ..., 0.0000e+00,\n           0.0000e+00, 0.0000e+00],\n          [0.0000e+00, 0.0000e+00, 0.0000e+00,  ..., 0.0000e+00,\n           0.0000e+00, 0.0000e+00],\n          [0.0000e+00, 0.0000e+00, 0.0000e+00,  ..., 0.0000e+00,\n           0.0000e+00, 0.0000e+00],\n          ...,\n          [0.0000e+00, 0.0000e+00, 0.0000e+00,  ..., 0.0000e+00,\n           0.0000e+00, 0.0000e+00],\n          [0.0000e+00, 0.0000e+00, 0.0000e+00,  ..., 0.0000e+00,\n           0.0000e+00, 0.0000e+00],\n          [0.0000e+00, 0.0000e+00, 0.0000e+00,  ..., 0.0000e+00,\n           0.0000e+00, 0.0000e+00]],\n\n         [[0.0000e+00, 0.0000e+00, 0.0000e+00,  ..., 0.0000e+00,\n           0.0000e+00, 0.0000e+00],\n          [0.0000e+00, 0.0000e+00, 0.0000e+00,  ..., 0.0000e+00,\n           0.0000e+00, 0.0000e+00],\n          [0.0000e+00, 0.0000e+00, 0.0000e+00,  ..., 0.0000e+00,\n           0.0000e+00, 0.0000e+00],\n          ...,\n          [0.0000e+00, 0.0000e+00, 0.0000e+00,  ..., 0.0000e+00,\n           0.0000e+00, 0.0000e+00],\n          [1.1057e+00, 2.5535e-01, 0.0000e+00,  ..., 0.0000e+00,\n           0.0000e+00, 0.0000e+00],\n          [0.0000e+00, 0.0000e+00, 0.0000e+00,  ..., 0.0000e+00,\n           0.0000e+00, 0.0000e+00]],\n\n         [[8.2280e-02, 2.7121e+00, 3.0622e+00,  ..., 2.3801e+00,\n           4.3697e+00, 1.9868e+00],\n          [2.6579e+00, 5.2237e+00, 4.1553e+00,  ..., 4.4512e+00,\n           5.2473e+00, 3.5402e+00],\n          [0.0000e+00, 2.0596e+00, 4.3195e-01,  ..., 4.8868e-01,\n           2.0991e-01, 0.0000e+00],\n          ...,\n          [4.6866e+00, 6.1409e+00, 6.4256e-01,  ..., 0.0000e+00,\n           2.2996e+00, 1.2674e+00],\n          [5.3775e+00, 6.8193e+00, 3.7130e+00,  ..., 4.2376e+00,\n           4.7349e+00, 3.6980e+00],\n          [0.0000e+00, 4.8565e-01, 1.4950e-01,  ..., 2.2111e+00,\n           1.1456e+00, 5.6986e-01]]]], grad_fn=<MaxPool2DWithIndicesBackward>)}\n:List trace inputs must have elements (toTraceableIValue at /opt/conda/conda-bld/pytorch_1573049304260/work/torch/csrc/jit/pybind_utils.h:286)\nframe #0: c10::Error::Error(c10::SourceLocation, std::string const&) + 0x47 (0x7f3cc8476687 in /home/ubuntu/anaconda3/envs/Crowd_Detection_mayub/lib/python3.6/site-packages/torch/lib/libc10.so)\nframe #1: <unknown function> + 0x4f9175 (0x7f3cfdeb6175 in /home/ubuntu/anaconda3/envs/Crowd_Detection_mayub/lib/python3.6/site-packages/torch/lib/libtorch_python.so)\nframe #2: <unknown function> + 0x5731e2 (0x7f3cfdf301e2 in /home/ubuntu/anaconda3/envs/Crowd_Detection_mayub/lib/python3.6/site-packages/torch/lib/libtorch_python.so)\nframe #3: <unknown function> + 0x58a724 (0x7f3cfdf47724 in /home/ubuntu/anaconda3/envs/Crowd_Detection_mayub/lib/python3.6/site-packages/torch/lib/libtorch_python.so)\nframe #4: <unknown function> + 0x206b86 (0x7f3cfdbc3b86 in /home/ubuntu/anaconda3/envs/Crowd_Detection_mayub/lib/python3.6/site-packages/torch/lib/libtorch_python.so)\nframe #5: _PyCFunction_FastCallDict + 0x154 (0x55b2047adc54 in /home/ubuntu/anaconda3/envs/Crowd_Detection_mayub/bin/python)\nframe #6: <unknown function> + 0x199c0e (0x55b204835c0e in /home/ubuntu/anaconda3/envs/Crowd_Detection_mayub/bin/python)\nframe #7: _PyEval_EvalFrameDefault + 0x30a (0x55b20485875a in /home/ubuntu/anaconda3/envs/Crowd_Detection_mayub/bin/python)\nframe #8: <unknown function> + 0x192e66 (0x55b20482ee66 in /home/ubuntu/anaconda3/envs/Crowd_Detection_mayub/bin/python)\nframe #9: <unknown function> + 0x193e73 (0x55b20482fe73 in /home/ubuntu/anaconda3/envs/Crowd_Detection_mayub/bin/python)\nframe #10: <unknown function> + 0x199b95 (0x55b204835b95 in /home/ubuntu/anaconda3/envs/Crowd_Detection_mayub/bin/python)\nframe #11: _PyEval_EvalFrameDefault + 0x30a (0x55b20485875a in /home/ubuntu/anaconda3/envs/Crowd_Detection_mayub/bin/python)\nframe #12: <unknown function> + 0x192e66 (0x55b20482ee66 in /home/ubuntu/anaconda3/envs/Crowd_Detection_mayub/bin/python)\nframe #13: <unknown function> + 0x193e73 (0x55b20482fe73 in /home/ubuntu/anaconda3/envs/Crowd_Detection_mayub/bin/python)\nframe #14: <unknown function> + 0x199b95 (0x55b204835b95 in /home/ubuntu/anaconda3/envs/Crowd_Detection_mayub/bin/python)\nframe #15: _PyEval_EvalFrameDefault + 0x30a (0x55b20485875a in /home/ubuntu/anaconda3/envs/Crowd_Detection_mayub/bin/python)\nframe #16: PyEval_EvalCodeEx + 0x329 (0x55b2048309b9 in /home/ubuntu/anaconda3/envs/Crowd_Detection_mayub/bin/python)\nframe #17: PyEval_EvalCode + 0x1c (0x55b20483175c in /home/ubuntu/anaconda3/envs/Crowd_Detection_mayub/bin/python)\nframe #18: <unknown function> + 0x1ba167 (0x55b204856167 in /home/ubuntu/anaconda3/envs/Crowd_Detection_mayub/bin/python)\nframe #19: _PyCFunction_FastCallDict + 0x91 (0x55b2047adb91 in /home/ubuntu/anaconda3/envs/Crowd_Detection_mayub/bin/python)\nframe #20: <unknown function> + 0x199abc (0x55b204835abc in /home/ubuntu/anaconda3/envs/Crowd_Detection_mayub/bin/python)\nframe #21: _PyEval_EvalFrameDefault + 0x30a (0x55b20485875a in /home/ubuntu/anaconda3/envs/Crowd_Detection_mayub/bin/python)\nframe #22: _PyGen_Send + 0x256 (0x55b204838be6 in /home/ubuntu/anaconda3/envs/Crowd_Detection_mayub/bin/python)\nframe #23: _PyEval_EvalFrameDefault + 0x144f (0x55b20485989f in /home/ubuntu/anaconda3/envs/Crowd_Detection_mayub/bin/python)\nframe #24: _PyGen_Send + 0x256 (0x55b204838be6 in /home/ubuntu/anaconda3/envs/Crowd_Detection_mayub/bin/python)\nframe #25: _PyEval_EvalFrameDefault + 0x144f (0x55b20485989f in /home/ubuntu/anaconda3/envs/Crowd_Detection_mayub/bin/python)\nframe #26: _PyGen_Send + 0x256 (0x55b204838be6 in /home/ubuntu/anaconda3/envs/Crowd_Detection_mayub/bin/python)\nframe #27: _PyCFunction_FastCallDict + 0x115 (0x55b2047adc15 in /home/ubuntu/anaconda3/envs/Crowd_Detection_mayub/bin/python)\nframe #28: <unknown function> + 0x199abc (0x55b204835abc in /home/ubuntu/anaconda3/envs/Crowd_Detection_mayub/bin/python)\nframe #29: _PyEval_EvalFrameDefault + 0x30a (0x55b20485875a in /home/ubuntu/anaconda3/envs/Crowd_Detection_mayub/bin/python)\nframe #30: <unknown function> + 0x193c5b (0x55b20482fc5b in /home/ubuntu/anaconda3/envs/Crowd_Detection_mayub/bin/python)\nframe #31: <unknown function> + 0x199b95 (0x55b204835b95 in /home/ubuntu/anaconda3/envs/Crowd_Detection_mayub/bin/python)\nframe #32: _PyEval_EvalFrameDefault + 0x30a (0x55b20485875a in /home/ubuntu/anaconda3/envs/Crowd_Detection_mayub/bin/python)\nframe #33: <unknown function> + 0x193c5b (0x55b20482fc5b in /home/ubuntu/anaconda3/envs/Crowd_Detection_mayub/bin/python)\nframe #34: <unknown function> + 0x199b95 (0x55b204835b95 in /home/ubuntu/anaconda3/envs/Crowd_Detection_mayub/bin/python)\nframe #35: _PyEval_EvalFrameDefault + 0x30a (0x55b20485875a in /home/ubuntu/anaconda3/envs/Crowd_Detection_mayub/bin/python)\nframe #36: <unknown function> + 0x192e66 (0x55b20482ee66 in /home/ubuntu/anaconda3/envs/Crowd_Detection_mayub/bin/python)\nframe #37: _PyFunction_FastCallDict + 0x3d8 (0x55b204830598 in /home/ubuntu/anaconda3/envs/Crowd_Detection_mayub/bin/python)\nframe #38: _PyObject_FastCallDict + 0x26f (0x55b2047ae01f in /home/ubuntu/anaconda3/envs/Crowd_Detection_mayub/bin/python)\nframe #39: _PyObject_Call_Prepend + 0x63 (0x55b2047b2aa3 in /home/ubuntu/anaconda3/envs/Crowd_Detection_mayub/bin/python)\nframe #40: PyObject_Call + 0x3e (0x55b2047ada5e in /home/ubuntu/anaconda3/envs/Crowd_Detection_mayub/bin/python)\nframe #41: _PyEval_EvalFrameDefault + 0x19e7 (0x55b204859e37 in /home/ubuntu/anaconda3/envs/Crowd_Detection_mayub/bin/python)\nframe #42: <unknown function> + 0x193136 (0x55b20482f136 in /home/ubuntu/anaconda3/envs/Crowd_Detection_mayub/bin/python)\nframe #43: <unknown function> + 0x193ed6 (0x55b20482fed6 in /home/ubuntu/anaconda3/envs/Crowd_Detection_mayub/bin/python)\nframe #44: <unknown function> + 0x199b95 (0x55b204835b95 in /home/ubuntu/anaconda3/envs/Crowd_Detection_mayub/bin/python)\nframe #45: _PyEval_EvalFrameDefault + 0x10cc (0x55b20485951c in /home/ubuntu/anaconda3/envs/Crowd_Detection_mayub/bin/python)\nframe #46: <unknown function> + 0x19c764 (0x55b204838764 in /home/ubuntu/anaconda3/envs/Crowd_Detection_mayub/bin/python)\nframe #47: _PyCFunction_FastCallDict + 0x91 (0x55b2047adb91 in /home/ubuntu/anaconda3/envs/Crowd_Detection_mayub/bin/python)\nframe #48: <unknown function> + 0x199abc (0x55b204835abc in /home/ubuntu/anaconda3/envs/Crowd_Detection_mayub/bin/python)\nframe #49: _PyEval_EvalFrameDefault + 0x30a (0x55b20485875a in /home/ubuntu/anaconda3/envs/Crowd_Detection_mayub/bin/python)\nframe #50: <unknown function> + 0x193136 (0x55b20482f136 in /home/ubuntu/anaconda3/envs/Crowd_Detection_mayub/bin/python)\nframe #51: <unknown function> + 0x193ed6 (0x55b20482fed6 in /home/ubuntu/anaconda3/envs/Crowd_Detection_mayub/bin/python)\nframe #52: <unknown function> + 0x199b95 (0x55b204835b95 in /home/ubuntu/anaconda3/envs/Crowd_Detection_mayub/bin/python)\nframe #53: _PyEval_EvalFrameDefault + 0x30a (0x55b20485875a in /home/ubuntu/anaconda3/envs/Crowd_Detection_mayub/bin/python)\nframe #54: <unknown function> + 0x19c764 (0x55b204838764 in /home/ubuntu/anaconda3/envs/Crowd_Detection_mayub/bin/python)\nframe #55: _PyCFunction_FastCallDict + 0x91 (0x55b2047adb91 in /home/ubuntu/anaconda3/envs/Crowd_Detection_mayub/bin/python)\nframe #56: <unknown function> + 0x199abc (0x55b204835abc in /home/ubuntu/anaconda3/envs/Crowd_Detection_mayub/bin/python)\nframe #57: _PyEval_EvalFrameDefault + 0x30a (0x55b20485875a in /home/ubuntu/anaconda3/envs/Crowd_Detection_mayub/bin/python)\nframe #58: <unknown function> + 0x193136 (0x55b20482f136 in /home/ubuntu/anaconda3/envs/Crowd_Detection_mayub/bin/python)\nframe #59: <unknown function> + 0x193ed6 (0x55b20482fed6 in /home/ubuntu/anaconda3/envs/Crowd_Detection_mayub/bin/python)\nframe #60: <unknown function> + 0x199b95 (0x55b204835b95 in /home/ubuntu/anaconda3/envs/Crowd_Detection_mayub/bin/python)\nframe #61: _PyEval_EvalFrameDefault + 0x30a (0x55b20485875a in /home/ubuntu/anaconda3/envs/Crowd_Detection_mayub/bin/python)\nframe #62: <unknown function> + 0x19c764 (0x55b204838764 in /home/ubuntu/anaconda3/envs/Crowd_Detection_mayub/bin/python)\nframe #63: _PyCFunction_FastCallDict + 0x91 (0x55b2047adb91 in /home/ubuntu/anaconda3/envs/Crowd_Detection_mayub/bin/python)\n"
     ]
    }
   ],
   "source": [
    "traced_script_module = torch.jit.trace(net, example)"
   ]
  },
  {
   "cell_type": "code",
   "execution_count": null,
   "metadata": {},
   "outputs": [],
   "source": []
  },
  {
   "cell_type": "code",
   "execution_count": null,
   "metadata": {},
   "outputs": [],
   "source": []
  }
 ],
 "metadata": {
  "kernelspec": {
   "display_name": "Environment (conda_crowd_detection_mayub)",
   "language": "python",
   "name": "conda_crowd_detection_mayub"
  },
  "language_info": {
   "codemirror_mode": {
    "name": "ipython",
    "version": 3
   },
   "file_extension": ".py",
   "mimetype": "text/x-python",
   "name": "python",
   "nbconvert_exporter": "python",
   "pygments_lexer": "ipython3",
   "version": "3.6.9"
  }
 },
 "nbformat": 4,
 "nbformat_minor": 2
}
