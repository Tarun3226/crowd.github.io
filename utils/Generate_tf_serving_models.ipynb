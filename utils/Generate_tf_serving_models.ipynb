{
 "cells": [
  {
   "cell_type": "code",
   "execution_count": 1,
   "metadata": {},
   "outputs": [
    {
     "name": "stderr",
     "output_type": "stream",
     "text": [
      "Using TensorFlow backend.\n"
     ]
    }
   ],
   "source": [
    "import tensorflow as tf\n",
    "from keras.models import model_from_json"
   ]
  },
  {
   "cell_type": "markdown",
   "metadata": {},
   "source": [
    "### Export  Classification Model"
   ]
  },
  {
   "cell_type": "code",
   "execution_count": null,
   "metadata": {},
   "outputs": [],
   "source": [
    "# The export path contains the name and the version of the model\n",
    "tf.keras.backend.set_learning_phase(0)  # Ignore dropout at inference\n",
    "classify_model = tf.keras.models.load_model('/home/ubuntu/mayub/Github/learnopencv/Keras-Fine-Tuning/da_last4_layers.h5')\n",
    "export_path = '../my_image_classifier/1'\n",
    "\n",
    "# Fetch the Keras session and save the model\n",
    "# The signature definition is defined by the input and output tensors\n",
    "# And stored with the default serving key\n",
    "with tf.keras.backend.get_session() as sess:\n",
    "    tf.saved_model.simple_save(\n",
    "        sess,\n",
    "        export_path,\n",
    "        inputs={'input_image': classify_model.input},\n",
    "        outputs={t.name: t for t in classify_model.outputs})"
   ]
  },
  {
   "cell_type": "markdown",
   "metadata": {},
   "source": [
    "### Export Crowd Detection Models"
   ]
  },
  {
   "cell_type": "markdown",
   "metadata": {},
   "source": [
    "#### If you get \"Attempted to use a closed session\" Restart Jupyter kernal and try again or try using `tf.keras.backend.clear_session()`"
   ]
  },
  {
   "cell_type": "code",
   "execution_count": null,
   "metadata": {},
   "outputs": [],
   "source": [
    "## Load the MODEL Architecture File\n",
    "json_file = open('/home/ubuntu/CrowdSourcing_Projects/CSRNet-keras/models/Model.json', 'r')\n",
    "loaded_model_json = json_file.read()\n",
    "json_file.close()"
   ]
  },
  {
   "cell_type": "code",
   "execution_count": null,
   "metadata": {},
   "outputs": [],
   "source": [
    "## Load the model for dense images and Save in H5 format\n",
    "dense_model = model_from_json(loaded_model_json)\n",
    "dense_model.load_weights(\"/home/ubuntu/CrowdSourcing_Projects/CSRNet-keras/weights/CSRNet_MAE67.984_RMSE103.25_SFN0.838_MAPE0.173_epoch127-150.0.hdf5\")\n",
    "dense_model.save('/home/ubuntu/CrowdSourcing_Projects/CSRNet-keras/weights/dense_model.h5')\n"
   ]
  },
  {
   "cell_type": "code",
   "execution_count": 3,
   "metadata": {
    "scrolled": true
   },
   "outputs": [
    {
     "name": "stdout",
     "output_type": "stream",
     "text": [
      "WARNING:tensorflow:From /home/ubuntu/anaconda3/envs/Crowd_Detection_mayub/lib/python3.6/site-packages/tensorflow_core/python/keras/initializers.py:143: calling RandomNormal.__init__ (from tensorflow.python.ops.init_ops) with dtype is deprecated and will be removed in a future version.\n",
      "Instructions for updating:\n",
      "Call initializer instance with the dtype argument instead of passing it to the constructor\n",
      "WARNING:tensorflow:From /home/ubuntu/anaconda3/envs/Crowd_Detection_mayub/lib/python3.6/site-packages/tensorflow_core/python/ops/resource_variable_ops.py:1630: calling BaseResourceVariable.__init__ (from tensorflow.python.ops.resource_variable_ops) with constraint is deprecated and will be removed in a future version.\n",
      "Instructions for updating:\n",
      "If using Keras pass *_constraint arguments to layers.\n",
      "WARNING:tensorflow:No training configuration found in save file: the model was *not* compiled. Compile it manually.\n",
      "WARNING:tensorflow:From <ipython-input-3-0a93f50d5d61>:6: simple_save (from tensorflow.python.saved_model.simple_save) is deprecated and will be removed in a future version.\n",
      "Instructions for updating:\n",
      "This function will only be available through the v1 compatibility library as tf.compat.v1.saved_model.simple_save.\n",
      "WARNING:tensorflow:From /home/ubuntu/anaconda3/envs/Crowd_Detection_mayub/lib/python3.6/site-packages/tensorflow_core/python/saved_model/signature_def_utils_impl.py:201: build_tensor_info (from tensorflow.python.saved_model.utils_impl) is deprecated and will be removed in a future version.\n",
      "Instructions for updating:\n",
      "This function will only be available through the v1 compatibility library as tf.compat.v1.saved_model.utils.build_tensor_info or tf.compat.v1.saved_model.build_tensor_info.\n",
      "INFO:tensorflow:Assets added to graph.\n",
      "INFO:tensorflow:No assets to write.\n",
      "INFO:tensorflow:SavedModel written to: ../crowd_detector/1/saved_model.pb\n"
     ]
    }
   ],
   "source": [
    "tf.keras.backend.set_learning_phase(0) \n",
    "dense_model = tf.keras.models.load_model('/home/ubuntu/CrowdSourcing_Projects/CSRNet-keras/weights/dense_model.h5')\n",
    "export_path = '../crowd_detector/1'\n",
    "\n",
    "with tf.keras.backend.get_session() as sess2:\n",
    "    tf.saved_model.simple_save(sess2,export_path,inputs={'input_image': dense_model.input},outputs={t.name: t for t in dense_model.outputs})"
   ]
  },
  {
   "cell_type": "markdown",
   "metadata": {},
   "source": [
    "#### Model 2"
   ]
  },
  {
   "cell_type": "code",
   "execution_count": 2,
   "metadata": {
    "scrolled": true
   },
   "outputs": [
    {
     "name": "stdout",
     "output_type": "stream",
     "text": [
      "WARNING:tensorflow:From /home/ubuntu/anaconda3/envs/Crowd_Detection_mayub/lib/python3.6/site-packages/keras/backend/tensorflow_backend.py:517: The name tf.placeholder is deprecated. Please use tf.compat.v1.placeholder instead.\n",
      "\n",
      "WARNING:tensorflow:From /home/ubuntu/anaconda3/envs/Crowd_Detection_mayub/lib/python3.6/site-packages/keras/backend/tensorflow_backend.py:4138: The name tf.random_uniform is deprecated. Please use tf.random.uniform instead.\n",
      "\n",
      "WARNING:tensorflow:From /home/ubuntu/anaconda3/envs/Crowd_Detection_mayub/lib/python3.6/site-packages/keras/backend/tensorflow_backend.py:3976: The name tf.nn.max_pool is deprecated. Please use tf.nn.max_pool2d instead.\n",
      "\n",
      "WARNING:tensorflow:From /home/ubuntu/anaconda3/envs/Crowd_Detection_mayub/lib/python3.6/site-packages/keras/backend/tensorflow_backend.py:4115: The name tf.random_normal is deprecated. Please use tf.random.normal instead.\n",
      "\n",
      "WARNING:tensorflow:From /home/ubuntu/anaconda3/envs/Crowd_Detection_mayub/lib/python3.6/site-packages/keras/backend/tensorflow_backend.py:174: The name tf.get_default_session is deprecated. Please use tf.compat.v1.get_default_session instead.\n",
      "\n",
      "WARNING:tensorflow:From /home/ubuntu/anaconda3/envs/Crowd_Detection_mayub/lib/python3.6/site-packages/keras/backend/tensorflow_backend.py:181: The name tf.ConfigProto is deprecated. Please use tf.compat.v1.ConfigProto instead.\n",
      "\n",
      "WARNING:tensorflow:From /home/ubuntu/anaconda3/envs/Crowd_Detection_mayub/lib/python3.6/site-packages/keras/backend/tensorflow_backend.py:186: The name tf.Session is deprecated. Please use tf.compat.v1.Session instead.\n",
      "\n",
      "WARNING:tensorflow:From /home/ubuntu/anaconda3/envs/Crowd_Detection_mayub/lib/python3.6/site-packages/keras/backend/tensorflow_backend.py:190: The name tf.global_variables is deprecated. Please use tf.compat.v1.global_variables instead.\n",
      "\n",
      "WARNING:tensorflow:From /home/ubuntu/anaconda3/envs/Crowd_Detection_mayub/lib/python3.6/site-packages/keras/backend/tensorflow_backend.py:199: The name tf.is_variable_initialized is deprecated. Please use tf.compat.v1.is_variable_initialized instead.\n",
      "\n",
      "WARNING:tensorflow:From /home/ubuntu/anaconda3/envs/Crowd_Detection_mayub/lib/python3.6/site-packages/keras/backend/tensorflow_backend.py:206: The name tf.variables_initializer is deprecated. Please use tf.compat.v1.variables_initializer instead.\n",
      "\n"
     ]
    }
   ],
   "source": [
    "## Load the MODEL Architecture File\n",
    "json_file = open('/home/ubuntu/CrowdSourcing_Projects/CSRNet-keras/models/Model.json', 'r')\n",
    "loaded_model_json2 = json_file.read()\n",
    "json_file.close()\n",
    "## Load model for Sparse images\n",
    "sparse_model = model_from_json(loaded_model_json2)\n",
    "sparse_model.load_weights(\"/home/ubuntu/CrowdSourcing_Projects/CSRNet-keras/weights/CSRNet_MAE8.31_MSE14.361_SFN0.0_MAPE0.066_epoch135-400.0.hdf5\")\n",
    "sparse_model.save('/home/ubuntu/CrowdSourcing_Projects/CSRNet-keras/weights/sparse_model.h5')"
   ]
  },
  {
   "cell_type": "code",
   "execution_count": 2,
   "metadata": {},
   "outputs": [
    {
     "name": "stdout",
     "output_type": "stream",
     "text": [
      "WARNING:tensorflow:From /home/ubuntu/anaconda3/envs/Crowd_Detection_mayub/lib/python3.6/site-packages/tensorflow_core/python/keras/initializers.py:143: calling RandomNormal.__init__ (from tensorflow.python.ops.init_ops) with dtype is deprecated and will be removed in a future version.\n",
      "Instructions for updating:\n",
      "Call initializer instance with the dtype argument instead of passing it to the constructor\n",
      "WARNING:tensorflow:From /home/ubuntu/anaconda3/envs/Crowd_Detection_mayub/lib/python3.6/site-packages/tensorflow_core/python/ops/resource_variable_ops.py:1630: calling BaseResourceVariable.__init__ (from tensorflow.python.ops.resource_variable_ops) with constraint is deprecated and will be removed in a future version.\n",
      "Instructions for updating:\n",
      "If using Keras pass *_constraint arguments to layers.\n",
      "WARNING:tensorflow:No training configuration found in save file: the model was *not* compiled. Compile it manually.\n",
      "WARNING:tensorflow:From <ipython-input-2-2bd6e32d27c8>:9: simple_save (from tensorflow.python.saved_model.simple_save) is deprecated and will be removed in a future version.\n",
      "Instructions for updating:\n",
      "This function will only be available through the v1 compatibility library as tf.compat.v1.saved_model.simple_save.\n",
      "WARNING:tensorflow:From /home/ubuntu/anaconda3/envs/Crowd_Detection_mayub/lib/python3.6/site-packages/tensorflow_core/python/saved_model/signature_def_utils_impl.py:201: build_tensor_info (from tensorflow.python.saved_model.utils_impl) is deprecated and will be removed in a future version.\n",
      "Instructions for updating:\n",
      "This function will only be available through the v1 compatibility library as tf.compat.v1.saved_model.utils.build_tensor_info or tf.compat.v1.saved_model.build_tensor_info.\n",
      "INFO:tensorflow:Assets added to graph.\n",
      "INFO:tensorflow:No assets to write.\n",
      "INFO:tensorflow:SavedModel written to: ../crowd_detector/2/saved_model.pb\n"
     ]
    }
   ],
   "source": [
    "tf.keras.backend.set_learning_phase(0) \n",
    "sparse = tf.keras.models.load_model('/home/ubuntu/CrowdSourcing_Projects/CSRNet-keras/weights/sparse_model.h5')\n",
    "export_path = '../crowd_detector/2'\n",
    "\n",
    "## Run this to avoid `FailedPreconditionError: Attempting to use uninitialized value` error\n",
    "# tf.keras.backend.get_session().run(tf.global_variables_initializer())\n",
    "\n",
    "with tf.keras.backend.get_session() as sess3:\n",
    "    tf.saved_model.simple_save(sess3,export_path,inputs={'input_image': sparse.input},outputs={t.name: t for t in sparse.outputs})"
   ]
  },
  {
   "cell_type": "code",
   "execution_count": null,
   "metadata": {},
   "outputs": [],
   "source": []
  },
  {
   "cell_type": "code",
   "execution_count": 9,
   "metadata": {},
   "outputs": [],
   "source": [
    "from PIL import Image\n",
    "import numpy as np\n",
    "import io\n",
    "import requests\n",
    "import json"
   ]
  },
  {
   "cell_type": "code",
   "execution_count": 19,
   "metadata": {},
   "outputs": [],
   "source": [
    "def prepare_image(img, im_type=None):\n",
    "    if im_type==\"classify\":\n",
    "        newsize = (224, 224) \n",
    "        img = img.resize(newsize) \n",
    "    #Function to load,normalize and return image \n",
    "    im = np.array(img)\n",
    "    im = im/255.0\n",
    "    im[:,:,0]=(im[:,:,0]-0.485)/0.229\n",
    "    im[:,:,1]=(im[:,:,1]-0.456)/0.224\n",
    "    im[:,:,2]=(im[:,:,2]-0.406)/0.225\n",
    "    im = np.expand_dims(im,axis  = 0)\n",
    "    print(str(im.shape))\n",
    "    return im"
   ]
  },
  {
   "cell_type": "code",
   "execution_count": 21,
   "metadata": {},
   "outputs": [
    {
     "name": "stdout",
     "output_type": "stream",
     "text": [
      "(1, 768, 1024, 3)\n"
     ]
    }
   ],
   "source": [
    "image = Image.open('/home/ubuntu/CrowdSourcing_Projects/CSRNet-keras/data/Classify_all/sparse/IMG_7.jpg')\n",
    "# image = Image.open('/home/ubuntu/CrowdSourcing_Projects/CSRNet-keras/data/Classify_all/sparse/IMG_15.jpg')\n",
    "image = prepare_image(image)\n",
    "# image = image.astype('float')"
   ]
  },
  {
   "cell_type": "markdown",
   "metadata": {},
   "source": [
    "payload = {\n",
    "    \"instances\": [{'input_image': image.tolist()}]\n",
    "}\n",
    "\n",
    "#sending post request to TensorFlow Serving server\n",
    "r = requests.post('http://localhost:8500/v1/models/classify:predict', json=payload)\n",
    "pred = json.loads(r.content.decode('utf-8'))"
   ]
  },
  {
   "cell_type": "markdown",
   "metadata": {},
   "source": [
    "### Test Crowd Count Models"
   ]
  },
  {
   "cell_type": "code",
   "execution_count": 17,
   "metadata": {},
   "outputs": [],
   "source": [
    "import grpc\n",
    "from grpc.beta import implementations\n",
    "from tensorflow_serving.apis import predict_pb2\n",
    "from tensorflow_serving.apis import prediction_service_pb2_grpc\n",
    "from tensorflow_serving.apis import prediction_service_pb2\n",
    "from tensorflow.core.framework import types_pb2\n",
    "import tensorflow as tf"
   ]
  },
  {
   "cell_type": "code",
   "execution_count": 22,
   "metadata": {},
   "outputs": [],
   "source": [
    "channel = grpc.insecure_channel(\"localhost:8500\")\n",
    "# channel = implementations.insecure_channel(\"localhost\",8500)"
   ]
  },
  {
   "cell_type": "code",
   "execution_count": 23,
   "metadata": {},
   "outputs": [],
   "source": [
    "stub = prediction_service_pb2_grpc.PredictionServiceStub(channel)\n",
    "# stub = prediction_service_pb2.beta_create_PredictionService_stub(channel)\n",
    "request = predict_pb2.PredictRequest()\n",
    "request.model_spec.name = \"dense_crowd\"\n",
    "request.inputs[\"input_image\"].CopyFrom(tf.make_tensor_proto(image, dtype=types_pb2.DT_FLOAT))"
   ]
  },
  {
   "cell_type": "code",
   "execution_count": 24,
   "metadata": {
    "scrolled": true
   },
   "outputs": [
    {
     "ename": "_Rendezvous",
     "evalue": "<_Rendezvous of RPC that terminated with:\n\tstatus = StatusCode.UNAVAILABLE\n\tdetails = \"Connect Failed\"\n\tdebug_error_string = \"{\"created\":\"@1588950381.498980891\",\"description\":\"Failed to create subchannel\",\"file\":\"src/core/ext/filters/client_channel/client_channel.cc\",\"file_line\":2721,\"referenced_errors\":[{\"created\":\"@1588950381.498968457\",\"description\":\"Pick Cancelled\",\"file\":\"src/core/ext/filters/client_channel/lb_policy/pick_first/pick_first.cc\",\"file_line\":241,\"referenced_errors\":[{\"created\":\"@1588950381.498953033\",\"description\":\"Connect Failed\",\"file\":\"src/core/ext/filters/client_channel/subchannel.cc\",\"file_line\":689,\"grpc_status\":14,\"referenced_errors\":[{\"created\":\"@1588950381.498934141\",\"description\":\"Failed to connect to remote host: OS Error\",\"errno\":111,\"file\":\"src/core/lib/iomgr/tcp_client_posix.cc\",\"file_line\":205,\"os_error\":\"Connection refused\",\"syscall\":\"connect\",\"target_address\":\"ipv4:127.0.0.1:8500\"}]}]}]}\"\n>",
     "output_type": "error",
     "traceback": [
      "\u001b[0;31m---------------------------------------------------------------------------\u001b[0m",
      "\u001b[0;31m_Rendezvous\u001b[0m                               Traceback (most recent call last)",
      "\u001b[0;32m<ipython-input-24-482c26f32d7d>\u001b[0m in \u001b[0;36m<module>\u001b[0;34m\u001b[0m\n\u001b[0;32m----> 1\u001b[0;31m \u001b[0mresponse\u001b[0m \u001b[0;34m=\u001b[0m \u001b[0mstub\u001b[0m\u001b[0;34m.\u001b[0m\u001b[0mPredict\u001b[0m\u001b[0;34m(\u001b[0m\u001b[0mrequest\u001b[0m\u001b[0;34m,\u001b[0m \u001b[0mtimeout\u001b[0m\u001b[0;34m=\u001b[0m\u001b[0;36m60.0\u001b[0m\u001b[0;34m)\u001b[0m\u001b[0;34m\u001b[0m\u001b[0;34m\u001b[0m\u001b[0m\n\u001b[0m\u001b[1;32m      2\u001b[0m \u001b[0mresponse\u001b[0m\u001b[0;34m\u001b[0m\u001b[0;34m\u001b[0m\u001b[0m\n",
      "\u001b[0;32m~/anaconda3/envs/Crowd_Detection_mayub/lib/python3.6/site-packages/grpc/_channel.py\u001b[0m in \u001b[0;36m__call__\u001b[0;34m(self, request, timeout, metadata, credentials)\u001b[0m\n\u001b[1;32m    531\u001b[0m     \u001b[0;32mdef\u001b[0m \u001b[0m__call__\u001b[0m\u001b[0;34m(\u001b[0m\u001b[0mself\u001b[0m\u001b[0;34m,\u001b[0m \u001b[0mrequest\u001b[0m\u001b[0;34m,\u001b[0m \u001b[0mtimeout\u001b[0m\u001b[0;34m=\u001b[0m\u001b[0;32mNone\u001b[0m\u001b[0;34m,\u001b[0m \u001b[0mmetadata\u001b[0m\u001b[0;34m=\u001b[0m\u001b[0;32mNone\u001b[0m\u001b[0;34m,\u001b[0m \u001b[0mcredentials\u001b[0m\u001b[0;34m=\u001b[0m\u001b[0;32mNone\u001b[0m\u001b[0;34m)\u001b[0m\u001b[0;34m:\u001b[0m\u001b[0;34m\u001b[0m\u001b[0;34m\u001b[0m\u001b[0m\n\u001b[1;32m    532\u001b[0m         \u001b[0mstate\u001b[0m\u001b[0;34m,\u001b[0m \u001b[0mcall\u001b[0m\u001b[0;34m,\u001b[0m \u001b[0;34m=\u001b[0m \u001b[0mself\u001b[0m\u001b[0;34m.\u001b[0m\u001b[0m_blocking\u001b[0m\u001b[0;34m(\u001b[0m\u001b[0mrequest\u001b[0m\u001b[0;34m,\u001b[0m \u001b[0mtimeout\u001b[0m\u001b[0;34m,\u001b[0m \u001b[0mmetadata\u001b[0m\u001b[0;34m,\u001b[0m \u001b[0mcredentials\u001b[0m\u001b[0;34m)\u001b[0m\u001b[0;34m\u001b[0m\u001b[0;34m\u001b[0m\u001b[0m\n\u001b[0;32m--> 533\u001b[0;31m         \u001b[0;32mreturn\u001b[0m \u001b[0m_end_unary_response_blocking\u001b[0m\u001b[0;34m(\u001b[0m\u001b[0mstate\u001b[0m\u001b[0;34m,\u001b[0m \u001b[0mcall\u001b[0m\u001b[0;34m,\u001b[0m \u001b[0;32mFalse\u001b[0m\u001b[0;34m,\u001b[0m \u001b[0;32mNone\u001b[0m\u001b[0;34m)\u001b[0m\u001b[0;34m\u001b[0m\u001b[0;34m\u001b[0m\u001b[0m\n\u001b[0m\u001b[1;32m    534\u001b[0m \u001b[0;34m\u001b[0m\u001b[0m\n\u001b[1;32m    535\u001b[0m     \u001b[0;32mdef\u001b[0m \u001b[0mwith_call\u001b[0m\u001b[0;34m(\u001b[0m\u001b[0mself\u001b[0m\u001b[0;34m,\u001b[0m \u001b[0mrequest\u001b[0m\u001b[0;34m,\u001b[0m \u001b[0mtimeout\u001b[0m\u001b[0;34m=\u001b[0m\u001b[0;32mNone\u001b[0m\u001b[0;34m,\u001b[0m \u001b[0mmetadata\u001b[0m\u001b[0;34m=\u001b[0m\u001b[0;32mNone\u001b[0m\u001b[0;34m,\u001b[0m \u001b[0mcredentials\u001b[0m\u001b[0;34m=\u001b[0m\u001b[0;32mNone\u001b[0m\u001b[0;34m)\u001b[0m\u001b[0;34m:\u001b[0m\u001b[0;34m\u001b[0m\u001b[0;34m\u001b[0m\u001b[0m\n",
      "\u001b[0;32m~/anaconda3/envs/Crowd_Detection_mayub/lib/python3.6/site-packages/grpc/_channel.py\u001b[0m in \u001b[0;36m_end_unary_response_blocking\u001b[0;34m(state, call, with_call, deadline)\u001b[0m\n\u001b[1;32m    465\u001b[0m             \u001b[0;32mreturn\u001b[0m \u001b[0mstate\u001b[0m\u001b[0;34m.\u001b[0m\u001b[0mresponse\u001b[0m\u001b[0;34m\u001b[0m\u001b[0;34m\u001b[0m\u001b[0m\n\u001b[1;32m    466\u001b[0m     \u001b[0;32melse\u001b[0m\u001b[0;34m:\u001b[0m\u001b[0;34m\u001b[0m\u001b[0;34m\u001b[0m\u001b[0m\n\u001b[0;32m--> 467\u001b[0;31m         \u001b[0;32mraise\u001b[0m \u001b[0m_Rendezvous\u001b[0m\u001b[0;34m(\u001b[0m\u001b[0mstate\u001b[0m\u001b[0;34m,\u001b[0m \u001b[0;32mNone\u001b[0m\u001b[0;34m,\u001b[0m \u001b[0;32mNone\u001b[0m\u001b[0;34m,\u001b[0m \u001b[0mdeadline\u001b[0m\u001b[0;34m)\u001b[0m\u001b[0;34m\u001b[0m\u001b[0;34m\u001b[0m\u001b[0m\n\u001b[0m\u001b[1;32m    468\u001b[0m \u001b[0;34m\u001b[0m\u001b[0m\n\u001b[1;32m    469\u001b[0m \u001b[0;34m\u001b[0m\u001b[0m\n",
      "\u001b[0;31m_Rendezvous\u001b[0m: <_Rendezvous of RPC that terminated with:\n\tstatus = StatusCode.UNAVAILABLE\n\tdetails = \"Connect Failed\"\n\tdebug_error_string = \"{\"created\":\"@1588950381.498980891\",\"description\":\"Failed to create subchannel\",\"file\":\"src/core/ext/filters/client_channel/client_channel.cc\",\"file_line\":2721,\"referenced_errors\":[{\"created\":\"@1588950381.498968457\",\"description\":\"Pick Cancelled\",\"file\":\"src/core/ext/filters/client_channel/lb_policy/pick_first/pick_first.cc\",\"file_line\":241,\"referenced_errors\":[{\"created\":\"@1588950381.498953033\",\"description\":\"Connect Failed\",\"file\":\"src/core/ext/filters/client_channel/subchannel.cc\",\"file_line\":689,\"grpc_status\":14,\"referenced_errors\":[{\"created\":\"@1588950381.498934141\",\"description\":\"Failed to connect to remote host: OS Error\",\"errno\":111,\"file\":\"src/core/lib/iomgr/tcp_client_posix.cc\",\"file_line\":205,\"os_error\":\"Connection refused\",\"syscall\":\"connect\",\"target_address\":\"ipv4:127.0.0.1:8500\"}]}]}]}\"\n>"
     ]
    }
   ],
   "source": [
    "response = stub.Predict(request, timeout=60.0)\n",
    "response"
   ]
  },
  {
   "cell_type": "code",
   "execution_count": 13,
   "metadata": {
    "scrolled": true
   },
   "outputs": [
    {
     "name": "stdout",
     "output_type": "stream",
     "text": [
      "[[[[8.8443421e-03]\n",
      "   [8.6643193e-03]\n",
      "   [6.3699763e-03]\n",
      "   ...\n",
      "   [1.9776708e-02]\n",
      "   [2.8616395e-02]\n",
      "   [2.2410918e-02]]\n",
      "\n",
      "  [[8.2615213e-03]\n",
      "   [9.0014935e-03]\n",
      "   [6.4136349e-03]\n",
      "   ...\n",
      "   [2.5757369e-02]\n",
      "   [3.3779133e-02]\n",
      "   [2.5641346e-02]]\n",
      "\n",
      "  [[8.2430672e-03]\n",
      "   [8.5845552e-03]\n",
      "   [7.9758959e-03]\n",
      "   ...\n",
      "   [3.8594414e-02]\n",
      "   [3.8175978e-02]\n",
      "   [2.1720767e-02]]\n",
      "\n",
      "  ...\n",
      "\n",
      "  [[1.4275406e-03]\n",
      "   [6.7494810e-05]\n",
      "   [4.2134877e-03]\n",
      "   ...\n",
      "   [0.0000000e+00]\n",
      "   [0.0000000e+00]\n",
      "   [0.0000000e+00]]\n",
      "\n",
      "  [[7.2628185e-03]\n",
      "   [6.3359253e-03]\n",
      "   [2.9798727e-03]\n",
      "   ...\n",
      "   [0.0000000e+00]\n",
      "   [0.0000000e+00]\n",
      "   [0.0000000e+00]]\n",
      "\n",
      "  [[5.0374884e-03]\n",
      "   [3.2912027e-03]\n",
      "   [0.0000000e+00]\n",
      "   ...\n",
      "   [0.0000000e+00]\n",
      "   [0.0000000e+00]\n",
      "   [0.0000000e+00]]]]\n",
      "Predicted Count: 24.0\n"
     ]
    }
   ],
   "source": [
    "predictions = tf.make_ndarray(response.outputs['y_out/Relu:0'])\n",
    "print(predictions)\n",
    "summ = np.sum(predictions)\n",
    "print(\"Predicted Count: \" + str(round(summ)))"
   ]
  },
  {
   "cell_type": "markdown",
   "metadata": {},
   "source": [
    "### Test Classification Model"
   ]
  },
  {
   "cell_type": "code",
   "execution_count": 37,
   "metadata": {},
   "outputs": [
    {
     "name": "stdout",
     "output_type": "stream",
     "text": [
      "(1, 224, 224, 3)\n"
     ]
    }
   ],
   "source": [
    "# image = Image.open('/home/ubuntu/mayub/Github/Crowd_Detection/image_examples/sparse_crowd_01.jpg')\n",
    "image = Image.open('/home/ubuntu/CrowdSourcing_Projects/CSRNet-keras/data/Classify_all/dense/IMG_26.jpg')\n",
    "image = prepare_image(image, im_type=\"classify\")\n",
    "# Using stub from above\n",
    "request.model_spec.name = \"classify\"\n",
    "request.inputs[\"input_image\"].CopyFrom(tf.make_tensor_proto(image, dtype=types_pb2.DT_FLOAT))"
   ]
  },
  {
   "cell_type": "code",
   "execution_count": 38,
   "metadata": {},
   "outputs": [
    {
     "data": {
      "text/plain": [
       "outputs {\n",
       "  key: \"dense_11/Softmax:0\"\n",
       "  value {\n",
       "    dtype: DT_FLOAT\n",
       "    tensor_shape {\n",
       "      dim {\n",
       "        size: 1\n",
       "      }\n",
       "      dim {\n",
       "        size: 2\n",
       "      }\n",
       "    }\n",
       "    float_val: 0.9754768013954163\n",
       "    float_val: 0.02452320232987404\n",
       "  }\n",
       "}\n",
       "model_spec {\n",
       "  name: \"classify\"\n",
       "  version {\n",
       "    value: 1\n",
       "  }\n",
       "  signature_name: \"serving_default\"\n",
       "}"
      ]
     },
     "execution_count": 38,
     "metadata": {},
     "output_type": "execute_result"
    }
   ],
   "source": [
    "response = stub.Predict(request, timeout=60.0)\n",
    "response"
   ]
  },
  {
   "cell_type": "code",
   "execution_count": 39,
   "metadata": {},
   "outputs": [
    {
     "name": "stdout",
     "output_type": "stream",
     "text": [
      "Predcited Class (0-dense, 1-sparse):  0\n"
     ]
    }
   ],
   "source": [
    "predictions = tf.make_ndarray(response.outputs['dense_11/Softmax:0'])\n",
    "predicted_classes = np.argmax(predictions,axis=1)\n",
    "print(\"Predcited Class (0-dense, 1-sparse):  \"+str(predicted_classes[0]))"
   ]
  },
  {
   "cell_type": "code",
   "execution_count": null,
   "metadata": {},
   "outputs": [],
   "source": []
  },
  {
   "cell_type": "code",
   "execution_count": null,
   "metadata": {},
   "outputs": [],
   "source": []
  },
  {
   "cell_type": "code",
   "execution_count": null,
   "metadata": {},
   "outputs": [],
   "source": []
  },
  {
   "cell_type": "code",
   "execution_count": 4,
   "metadata": {},
   "outputs": [],
   "source": [
    "# Take a sample picture\n",
    "img_path1 = '/home/ubuntu/CrowdSourcing_Projects/CSRNet-keras/data/Classify_all/sparse/IMG_7.jpg'\n",
    "img_path2 = '/home/ubuntu/CrowdSourcing_Projects/CSRNet-keras/data/Classify_all/dense/20.jpg'\n",
    "# image1 = Image.open(img_path1).convert('RGB')\n",
    "# image2 = Image.open(img_path2).convert('RGB')"
   ]
  },
  {
   "cell_type": "code",
   "execution_count": 25,
   "metadata": {},
   "outputs": [],
   "source": [
    "# Read as binary data\n",
    "data1 = open(img_path1,'rb').read()\n",
    "data2 = open(img_path2,'rb').read()"
   ]
  },
  {
   "cell_type": "code",
   "execution_count": 35,
   "metadata": {},
   "outputs": [],
   "source": [
    "def prepare_image(img, im_type=None):\n",
    "    if im_type==\"classify\":\n",
    "        newsize = (224, 224) \n",
    "        img = img.resize(newsize) \n",
    "    #Function to load,normalize and return image \n",
    "    im = np.array(img)\n",
    "    print(im.shape)\n",
    "#     print(im)\n",
    "    im = im/255.0\n",
    "    im[:,:,0]=(im[:,:,0]-0.485)/0.229\n",
    "    im[:,:,1]=(im[:,:,1]-0.456)/0.224\n",
    "    im[:,:,2]=(im[:,:,2]-0.406)/0.225\n",
    "    im = np.expand_dims(im,axis  = 0)\n",
    "    # print(str(im.shape()))\n",
    "    return im"
   ]
  },
  {
   "cell_type": "code",
   "execution_count": 36,
   "metadata": {},
   "outputs": [],
   "source": [
    "def create_tf_prediction_request():\n",
    "    channel = grpc.insecure_channel(\"127.0.0.1:8500\")\n",
    "    stub = prediction_service_pb2_grpc.PredictionServiceStub(channel)\n",
    "    request = predict_pb2.PredictRequest()\n",
    "    return stub,request"
   ]
  },
  {
   "cell_type": "code",
   "execution_count": 37,
   "metadata": {},
   "outputs": [
    {
     "name": "stdout",
     "output_type": "stream",
     "text": [
      "(768, 1024, 3)\n",
      "54.0\n"
     ]
    }
   ],
   "source": [
    "st, req = create_tf_prediction_request()\n",
    "image = Image.open('/home/ubuntu/CrowdSourcing_Projects/CSRNet-keras/data/Classify_all/sparse/IMG_7.jpg')\n",
    "image = prepare_image(image)\n",
    "\n",
    "req.model_spec.name = \"sparse_crowd\"\n",
    "req.inputs[\"input_image\"].CopyFrom(tf.make_tensor_proto(image, dtype=types_pb2.DT_FLOAT))\n",
    "data = {\"success\": False}\n",
    "response = st.Predict(req, timeout=60.0)\n",
    "p_hmap = tf.make_ndarray(response.outputs['y_out/Relu:0'])\n",
    "count = np.sum(p_hmap)\n",
    "print(str(round(count)))"
   ]
  },
  {
   "cell_type": "code",
   "execution_count": 30,
   "metadata": {},
   "outputs": [
    {
     "name": "stdout",
     "output_type": "stream",
     "text": [
      "38.0\n"
     ]
    }
   ],
   "source": [
    "req.model_spec.name = \"dense_crowd\"\n",
    "response = st.Predict(req, timeout=60.0)\n",
    "p_hmap = tf.make_ndarray(response.outputs['y_out/Relu:0'])\n",
    "count = np.sum(p_hmap)\n",
    "print(str(round(count)))"
   ]
  },
  {
   "cell_type": "code",
   "execution_count": 39,
   "metadata": {},
   "outputs": [
    {
     "name": "stdout",
     "output_type": "stream",
     "text": [
      "(384, 600, 3)\n"
     ]
    }
   ],
   "source": [
    "image2 = Image.open('/home/ubuntu/CrowdSourcing_Projects/CSRNet-keras/data/Classify_all/dense/20.jpg')\n",
    "image2 = image2.convert(\"RGB\")\n",
    "image2 = prepare_image(image2)"
   ]
  },
  {
   "cell_type": "code",
   "execution_count": 40,
   "metadata": {},
   "outputs": [
    {
     "name": "stdout",
     "output_type": "stream",
     "text": [
      "723.0\n"
     ]
    }
   ],
   "source": [
    "req.model_spec.name = \"sparse_crowd\"\n",
    "req.inputs[\"input_image\"].CopyFrom(tf.make_tensor_proto(image2, dtype=types_pb2.DT_FLOAT))\n",
    "response = st.Predict(req, timeout=60.0)\n",
    "p_hmap = tf.make_ndarray(response.outputs['y_out/Relu:0'])\n",
    "count = np.sum(p_hmap)\n",
    "print(str(round(count)))"
   ]
  },
  {
   "cell_type": "code",
   "execution_count": 41,
   "metadata": {},
   "outputs": [
    {
     "name": "stdout",
     "output_type": "stream",
     "text": [
      "1579.0\n"
     ]
    }
   ],
   "source": [
    "req.model_spec.name = \"dense_crowd\"\n",
    "response = st.Predict(req, timeout=60.0)\n",
    "p_hmap = tf.make_ndarray(response.outputs['y_out/Relu:0'])\n",
    "count = np.sum(p_hmap)\n",
    "print(str(round(count)))"
   ]
  },
  {
   "cell_type": "code",
   "execution_count": null,
   "metadata": {},
   "outputs": [],
   "source": []
  }
 ],
 "metadata": {
  "kernelspec": {
   "display_name": "Environment (conda_crowd_detection_mayub)",
   "language": "python",
   "name": "conda_crowd_detection_mayub"
  },
  "language_info": {
   "codemirror_mode": {
    "name": "ipython",
    "version": 3
   },
   "file_extension": ".py",
   "mimetype": "text/x-python",
   "name": "python",
   "nbconvert_exporter": "python",
   "pygments_lexer": "ipython3",
   "version": "3.6.9"
  }
 },
 "nbformat": 4,
 "nbformat_minor": 2
}
